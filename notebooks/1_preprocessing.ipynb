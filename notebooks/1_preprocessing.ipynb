{
 "cells": [
  {
   "cell_type": "code",
   "execution_count": 23,
   "id": "ed901015-2dec-4f0b-b393-4186dd3bc01f",
   "metadata": {},
   "outputs": [],
   "source": [
    "import re\n",
    "from datetime import datetime, timedelta\n",
    "from pathlib import Path\n",
    "from typing import Optional\n",
    "\n",
    "import pandas as pd\n",
    "import numpy as np\n",
    "from tqdm.notebook import tqdm\n",
    "from matplotlib import pyplot as plt\n",
    "\n",
    "plt.style.use('seaborn-whitegrid')"
   ]
  },
  {
   "cell_type": "markdown",
   "id": "c7f9a4af-fd36-4d45-80e2-282063e5a5eb",
   "metadata": {},
   "source": [
    "### Загрузка данных"
   ]
  },
  {
   "cell_type": "code",
   "execution_count": 13,
   "id": "8c9e41ee-ca43-4eea-923c-0bbdd0c36e9d",
   "metadata": {},
   "outputs": [
    {
     "data": {
      "text/plain": [
       "PosixPath('/Users/yuralytkin/Development/work/itmo/rzd-fares-analysis/data/2021_06_01')"
      ]
     },
     "execution_count": 13,
     "metadata": {},
     "output_type": "execute_result"
    }
   ],
   "source": [
    "data_dir = Path('../data/2021_06_01/').resolve()\n",
    "data_dir"
   ]
  },
  {
   "cell_type": "code",
   "execution_count": 14,
   "id": "82cd26a6-71c5-458f-a585-18c5ec90ef22",
   "metadata": {},
   "outputs": [],
   "source": [
    "def load_train_data(\n",
    "        train_num: str,\n",
    "        train_class: str,\n",
    ") -> Optional[pd.DataFrame]:\n",
    "    places_fpath = data_dir / f'{train_num}-{train_class}-place.csv'\n",
    "    prices_fpath = data_dir / f'{train_num}-{train_class}-price.csv'\n",
    "\n",
    "    if not all(fpath.exists() for fpath in [places_fpath, prices_fpath]):\n",
    "        return\n",
    "\n",
    "    places = pd.read_csv(places_fpath, encoding='cp1251', sep=';', index_col=0).T\n",
    "    prices = pd.read_csv(prices_fpath, encoding='cp1251', sep=';', index_col=0).T\n",
    "\n",
    "    for df in [places, prices]:\n",
    "        df.index = pd.to_datetime(df.index)\n",
    "        df.index.name = 'date'\n",
    "        df.columns = df.columns.map(int)\n",
    "        df.columns.name = 'days'\n",
    "        \n",
    "    places /= places.max().max()\n",
    "    prices = prices.replace(0, np.nan)\n",
    "\n",
    "    missing = places[places.isna().mean(axis=1) > 0.75].index\n",
    "\n",
    "    for df in [places, prices]:\n",
    "        df.drop(index=missing, inplace=True)\n",
    "\n",
    "        if df.empty:\n",
    "            return\n",
    "\n",
    "    places = places.reset_index().melt(id_vars='date', var_name='days', value_name='places')\n",
    "    prices = prices.reset_index().melt(id_vars='date', var_name='days', value_name='price')\n",
    "\n",
    "    train_data = places.merge(prices, how='outer', on=['date', 'days'])\n",
    "        \n",
    "    train_data['num'] = train_num\n",
    "    train_data['class'] = train_class\n",
    "\n",
    "    return train_data"
   ]
  },
  {
   "cell_type": "code",
   "execution_count": 16,
   "id": "72f9370b-8f7b-4e29-83ed-4f5bb03dd4f2",
   "metadata": {},
   "outputs": [
    {
     "data": {
      "application/vnd.jupyter.widget-view+json": {
       "model_id": "63a174d80d804e94a750fe1929417b30",
       "version_major": 2,
       "version_minor": 0
      },
      "text/plain": [
       "  0%|          | 0/380 [00:00<?, ?it/s]"
      ]
     },
     "metadata": {},
     "output_type": "display_data"
    },
    {
     "data": {
      "text/html": [
       "<div>\n",
       "<style scoped>\n",
       "    .dataframe tbody tr th:only-of-type {\n",
       "        vertical-align: middle;\n",
       "    }\n",
       "\n",
       "    .dataframe tbody tr th {\n",
       "        vertical-align: top;\n",
       "    }\n",
       "\n",
       "    .dataframe thead th {\n",
       "        text-align: right;\n",
       "    }\n",
       "</style>\n",
       "<table border=\"1\" class=\"dataframe\">\n",
       "  <thead>\n",
       "    <tr style=\"text-align: right;\">\n",
       "      <th></th>\n",
       "      <th>date</th>\n",
       "      <th>days</th>\n",
       "      <th>places</th>\n",
       "      <th>price</th>\n",
       "      <th>num</th>\n",
       "      <th>class</th>\n",
       "    </tr>\n",
       "  </thead>\n",
       "  <tbody>\n",
       "    <tr>\n",
       "      <th>0</th>\n",
       "      <td>2021-04-03</td>\n",
       "      <td>1</td>\n",
       "      <td>0.442857</td>\n",
       "      <td>3275.0</td>\n",
       "      <td>001А</td>\n",
       "      <td>Купе</td>\n",
       "    </tr>\n",
       "    <tr>\n",
       "      <th>1</th>\n",
       "      <td>2021-04-04</td>\n",
       "      <td>1</td>\n",
       "      <td>0.235714</td>\n",
       "      <td>3913.0</td>\n",
       "      <td>001А</td>\n",
       "      <td>Купе</td>\n",
       "    </tr>\n",
       "  </tbody>\n",
       "</table>\n",
       "</div>"
      ],
      "text/plain": [
       "        date days    places   price   num class\n",
       "0 2021-04-03    1  0.442857  3275.0  001А  Купе\n",
       "1 2021-04-04    1  0.235714  3913.0  001А  Купе"
      ]
     },
     "execution_count": 16,
     "metadata": {},
     "output_type": "execute_result"
    }
   ],
   "source": [
    "fname_re = re.compile('([^-]+)-([^-]+)-(price|place).csv')\n",
    "\n",
    "trains = set()\n",
    "\n",
    "for fpath in data_dir.iterdir():\n",
    "    match = fname_re.fullmatch(fpath.name)\n",
    "    \n",
    "    if match is None:\n",
    "        continue\n",
    "        \n",
    "    train_num, train_class, _ = match.groups()\n",
    "    trains.add((train_num, train_class))\n",
    "    \n",
    "trains = sorted(trains)\n",
    "    \n",
    "data = pd.DataFrame()\n",
    "\n",
    "for train_num, train_class in tqdm(trains):\n",
    "    train_data = load_train_data(train_num, train_class)\n",
    "    \n",
    "    if train_data is not None:\n",
    "        data = data.append(train_data, ignore_index=True)\n",
    "        \n",
    "trains = data[['num', 'class']].drop_duplicates().values.tolist()\n",
    "        \n",
    "data.head(2)"
   ]
  },
  {
   "cell_type": "raw",
   "id": "46c96374-c488-460e-942e-2cd1625a7916",
   "metadata": {},
   "source": [
    "num_charmap = {\n",
    "    '€': 'А',\n",
    "    '¨': 'Н',\n",
    "}\n",
    "\n",
    "\n",
    "def decode(s: str) -> str:\n",
    "    return ''.join(map(lambda x: num_charmap.get(x, x), s))\n",
    "\n",
    "\n",
    "data['num'] = data['num'].apply(decode)\n",
    "\n",
    "data.head(2)"
   ]
  },
  {
   "cell_type": "raw",
   "id": "7a6b7e57-d17d-4bde-b03f-ab88151a765f",
   "metadata": {},
   "source": [
    "classes = sorted(data['class'].unique())\n",
    "classes"
   ]
  },
  {
   "cell_type": "raw",
   "id": "790973b8-2f62-45d3-bf82-1df14d21139a",
   "metadata": {},
   "source": [
    "fixed_classes = ['B1', 'B2', 'C1', 'C2', 'Купе', 'Сидячий', 'СВ']\n",
    "assert len(classes) == len(fixed_classes)\n",
    "\n",
    "class_map = dict(zip(classes, fixed_classes))\n",
    "\n",
    "\n",
    "def decode(s: str) -> str:\n",
    "    return class_map.get(s, s)\n",
    "\n",
    "\n",
    "data['class'] = data['class'].apply(decode)\n",
    "\n",
    "data.head(2)"
   ]
  },
  {
   "cell_type": "raw",
   "id": "45581384-07f7-486c-b61a-bdb19f832389",
   "metadata": {},
   "source": [
    "data['class'].unique()"
   ]
  },
  {
   "cell_type": "code",
   "execution_count": 17,
   "id": "3f60a156-9a70-4d30-9eb7-7937e9296a73",
   "metadata": {},
   "outputs": [
    {
     "data": {
      "text/plain": [
       "144"
      ]
     },
     "execution_count": 17,
     "metadata": {},
     "output_type": "execute_result"
    }
   ],
   "source": [
    "trains = data[['num', 'class']].drop_duplicates().values.tolist()\n",
    "\n",
    "len(trains)"
   ]
  },
  {
   "cell_type": "markdown",
   "id": "81bc4e39-577a-4d38-8f60-e348116b4599",
   "metadata": {},
   "source": [
    "### Удаляем данные за праздники (29 апреля — 12 мая)"
   ]
  },
  {
   "cell_type": "code",
   "execution_count": 18,
   "id": "9fa5142b-27e8-49a8-a13a-8c94745e036d",
   "metadata": {},
   "outputs": [],
   "source": [
    "start = datetime(year=2021, month=4, day=29)\n",
    "end = datetime(year=2021, month=5, day=12)\n",
    "\n",
    "mask = (data['date'] < start) | (data['date'] > end)\n",
    "data = data[mask].copy()"
   ]
  },
  {
   "cell_type": "markdown",
   "id": "87742b12-ecdb-46f2-ac80-83cc335e0800",
   "metadata": {},
   "source": [
    "### Ищем «уикенды»"
   ]
  },
  {
   "cell_type": "code",
   "execution_count": 19,
   "id": "d664ae2b-f893-4f1f-be6e-b02c3d3ed457",
   "metadata": {},
   "outputs": [
    {
     "data": {
      "text/plain": [
       "{0: 'Monday',\n",
       " 1: 'Tuesday',\n",
       " 2: 'Wednesday',\n",
       " 3: 'Thursday',\n",
       " 4: 'Friday',\n",
       " 5: 'Saturday',\n",
       " 6: 'Sunday'}"
      ]
     },
     "execution_count": 19,
     "metadata": {},
     "output_type": "execute_result"
    }
   ],
   "source": [
    "data['weekday'] = data['date'].dt.weekday\n",
    "data['day_name'] = data['date'].dt.day_name()\n",
    "\n",
    "weekdays = data[['weekday', 'day_name']].drop_duplicates().sort_values(by='weekday')\\\n",
    "    .set_index('weekday')['day_name'].to_dict()\n",
    "\n",
    "weekdays"
   ]
  },
  {
   "cell_type": "code",
   "execution_count": 20,
   "id": "d0bf0951-4ff0-49b8-bd7f-5138cf0b127a",
   "metadata": {},
   "outputs": [],
   "source": [
    "ncols = 6\n",
    "nrows = len(trains) // ncols + (len(trains) % ncols > 0)\n",
    "\n",
    "fig, axes = plt.subplots(ncols=ncols, nrows=nrows)\n",
    "fig.set_size_inches(3 * ncols, 3 * nrows)\n",
    "fig.subplots_adjust(wspace=0.4, hspace=0.5)\n",
    "axes = axes.flatten()\n",
    "\n",
    "for (train_num, train_class), ax in zip(trains, axes):\n",
    "    train_data = data[(data['num'] == train_num) & (data['class'] == train_class)]\n",
    "\n",
    "    grouped = train_data.groupby(['weekday', 'days'])['places'].mean().reset_index()\\\n",
    "        .pivot(index='weekday', columns='days', values='places')\n",
    "    \n",
    "    for weekday, row in grouped.iterrows():\n",
    "        ax.plot(row, c=f'C{weekday}', label=weekdays[weekday])\n",
    "    \n",
    "    ax.set_title(f'{train_num}, {train_class}')\n",
    "    \n",
    "for i in range(1, nrows, 3):\n",
    "    axes[(i + 1) * ncols - 1].legend(loc='upper left', bbox_to_anchor=(1, 1))\n",
    "\n",
    "for i in range(len(trains), len(axes)):\n",
    "    axes[i].axis('off')\n",
    "    \n",
    "plt.savefig('../data/figures/places_vs_weekday.pdf', transparent=True, bbox_inches='tight')\n",
    "plt.close()"
   ]
  },
  {
   "cell_type": "markdown",
   "id": "af4ab825-5f3d-4d1a-95a6-81747dc73886",
   "metadata": {},
   "source": [
    "_Добавить сюда категоризацию «уикендов» для каждого поезда._"
   ]
  },
  {
   "cell_type": "code",
   "execution_count": 21,
   "id": "c30c42c7-7772-45b8-811b-5f12b973328d",
   "metadata": {},
   "outputs": [
    {
     "data": {
      "text/html": [
       "<div>\n",
       "<style scoped>\n",
       "    .dataframe tbody tr th:only-of-type {\n",
       "        vertical-align: middle;\n",
       "    }\n",
       "\n",
       "    .dataframe tbody tr th {\n",
       "        vertical-align: top;\n",
       "    }\n",
       "\n",
       "    .dataframe thead th {\n",
       "        text-align: right;\n",
       "    }\n",
       "</style>\n",
       "<table border=\"1\" class=\"dataframe\">\n",
       "  <thead>\n",
       "    <tr style=\"text-align: right;\">\n",
       "      <th></th>\n",
       "      <th>date</th>\n",
       "      <th>days</th>\n",
       "      <th>places</th>\n",
       "      <th>price</th>\n",
       "      <th>num</th>\n",
       "      <th>class</th>\n",
       "      <th>weekday</th>\n",
       "      <th>day_name</th>\n",
       "      <th>weekend</th>\n",
       "    </tr>\n",
       "  </thead>\n",
       "  <tbody>\n",
       "    <tr>\n",
       "      <th>0</th>\n",
       "      <td>2021-04-03</td>\n",
       "      <td>1</td>\n",
       "      <td>0.442857</td>\n",
       "      <td>3275.0</td>\n",
       "      <td>001А</td>\n",
       "      <td>Купе</td>\n",
       "      <td>5</td>\n",
       "      <td>Saturday</td>\n",
       "      <td>0</td>\n",
       "    </tr>\n",
       "    <tr>\n",
       "      <th>1</th>\n",
       "      <td>2021-04-04</td>\n",
       "      <td>1</td>\n",
       "      <td>0.235714</td>\n",
       "      <td>3913.0</td>\n",
       "      <td>001А</td>\n",
       "      <td>Купе</td>\n",
       "      <td>6</td>\n",
       "      <td>Sunday</td>\n",
       "      <td>0</td>\n",
       "    </tr>\n",
       "  </tbody>\n",
       "</table>\n",
       "</div>"
      ],
      "text/plain": [
       "        date days    places   price   num class  weekday  day_name  weekend\n",
       "0 2021-04-03    1  0.442857  3275.0  001А  Купе        5  Saturday        0\n",
       "1 2021-04-04    1  0.235714  3913.0  001А  Купе        6    Sunday        0"
      ]
     },
     "execution_count": 21,
     "metadata": {},
     "output_type": "execute_result"
    }
   ],
   "source": [
    "data['weekend'] = 0\n",
    "\n",
    "data.head(2)"
   ]
  },
  {
   "cell_type": "code",
   "execution_count": 22,
   "id": "bc5ab41c-036d-4e93-b23c-c47930f2ac6a",
   "metadata": {},
   "outputs": [],
   "source": [
    "data.to_csv('../data/data.csv', index=False)"
   ]
  },
  {
   "cell_type": "code",
   "execution_count": null,
   "id": "6e0baffb-fe08-4e55-ac9e-1c869b36f28c",
   "metadata": {},
   "outputs": [],
   "source": []
  }
 ],
 "metadata": {
  "kernelspec": {
   "display_name": "Python 3",
   "language": "python",
   "name": "python3"
  },
  "language_info": {
   "codemirror_mode": {
    "name": "ipython",
    "version": 3
   },
   "file_extension": ".py",
   "mimetype": "text/x-python",
   "name": "python",
   "nbconvert_exporter": "python",
   "pygments_lexer": "ipython3",
   "version": "3.8.10"
  }
 },
 "nbformat": 4,
 "nbformat_minor": 5
}
