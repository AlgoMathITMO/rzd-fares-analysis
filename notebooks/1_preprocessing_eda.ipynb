{
 "cells": [
  {
   "cell_type": "code",
   "execution_count": 1,
   "id": "bfb0f7fe",
   "metadata": {},
   "outputs": [],
   "source": [
    "import re\n",
    "from datetime import datetime, timedelta\n",
    "from pathlib import Path\n",
    "from typing import Optional\n",
    "\n",
    "import pandas as pd\n",
    "import numpy as np\n",
    "import seaborn as sns\n",
    "from tqdm.notebook import tqdm\n",
    "from matplotlib import pyplot as plt\n",
    "from matplotlib.patches import Rectangle\n",
    "\n",
    "plt.style.use('seaborn-whitegrid')"
   ]
  },
  {
   "cell_type": "markdown",
   "id": "d3d73cca",
   "metadata": {},
   "source": [
    "## Базовая реструктуризация данных"
   ]
  },
  {
   "cell_type": "raw",
   "id": "ec53303f-6259-4c46-847c-433de8b91582",
   "metadata": {},
   "source": [
    "data_dir = Path('../data/2021_06_07/').resolve()\n",
    "data_dir"
   ]
  },
  {
   "cell_type": "raw",
   "id": "e34a2f53-637d-488f-befe-532285766c53",
   "metadata": {},
   "source": [
    "def load_train_data(\n",
    "        train_num: str,\n",
    "        train_class: str,\n",
    ") -> Optional[pd.DataFrame]:\n",
    "    places_fpath = data_dir / f'{train_num}-{train_class}-place.csv'\n",
    "    prices_fpath = data_dir / f'{train_num}-{train_class}-price.csv'\n",
    "\n",
    "    if not all(fpath.exists() for fpath in [places_fpath, prices_fpath]):\n",
    "        return\n",
    "\n",
    "    places = pd.read_csv(places_fpath, encoding='cp1251', sep=';', index_col=0).T\n",
    "    prices = pd.read_csv(prices_fpath, encoding='cp1251', sep=';', index_col=0).T\n",
    "\n",
    "    for df in [places, prices]:\n",
    "        df.index = pd.to_datetime(df.index)\n",
    "        df.index.name = 'date'\n",
    "        df.columns = df.columns.map(int)\n",
    "        df.columns.name = 'days'\n",
    "        \n",
    "    max_places = places.max().max()\n",
    "    \n",
    "    if np.isnan(max_places) or max_places == 0:\n",
    "        return\n",
    "    \n",
    "    to_remove = places[places.max(axis=1) == 0].index\n",
    "    \n",
    "    for df in [places, prices]:\n",
    "        df.drop(index=to_remove, inplace=True)\n",
    "        \n",
    "    places = places.reset_index().melt(id_vars='date', var_name='days', value_name='places')\n",
    "    \n",
    "    prices = prices.replace(0, np.nan)\n",
    "    prices = prices.reset_index().melt(id_vars='date', var_name='days', value_name='price')\n",
    "\n",
    "    train_data = places.merge(prices, how='outer', on=['date', 'days'])\n",
    "    \n",
    "    train_data = train_data.dropna(subset=['places', 'price'], how='all')\n",
    "        \n",
    "    train_data['num'] = train_num\n",
    "    train_data['class'] = train_class\n",
    "    train_data['train'] = f'{train_num}-{train_class}'\n",
    "\n",
    "    return train_data"
   ]
  },
  {
   "cell_type": "raw",
   "id": "7e1ab909-d71d-44e7-a40b-125a68cf4eed",
   "metadata": {},
   "source": [
    "fname_re = re.compile('([^-]+)-([^-]+)-(price|place).csv')\n",
    "\n",
    "trains = set()\n",
    "\n",
    "for fpath in data_dir.iterdir():\n",
    "    match = fname_re.fullmatch(fpath.name)\n",
    "    \n",
    "    if match is None:\n",
    "        continue\n",
    "        \n",
    "    train_num, train_class, _ = match.groups()\n",
    "    trains.add((train_num, train_class))\n",
    "    \n",
    "trains = sorted(trains)\n",
    "    \n",
    "data = pd.DataFrame()\n",
    "\n",
    "for train_num, train_class in tqdm(trains):\n",
    "    train_data = load_train_data(train_num, train_class)\n",
    "    \n",
    "    if train_data is not None:\n",
    "        data = data.append(train_data, ignore_index=True)\n",
    "        \n",
    "data.head(2)"
   ]
  },
  {
   "cell_type": "raw",
   "id": "a35cb831-5377-4a72-badb-0f0029cbafc7",
   "metadata": {},
   "source": [
    "data['train'].nunique()"
   ]
  },
  {
   "cell_type": "raw",
   "id": "97ac5ecf-77f5-4ac8-8993-610f1b6d2bbd",
   "metadata": {},
   "source": [
    "data.to_csv('../data/data_raw.csv', index=False, encoding='utf-8')"
   ]
  },
  {
   "cell_type": "markdown",
   "id": "6ec14a9d",
   "metadata": {},
   "source": [
    "## Препроцессинг"
   ]
  },
  {
   "cell_type": "code",
   "execution_count": 2,
   "id": "6f7661fd-e934-4f9c-990a-2a399a744c69",
   "metadata": {},
   "outputs": [
    {
     "data": {
      "text/html": [
       "<div>\n",
       "<style scoped>\n",
       "    .dataframe tbody tr th:only-of-type {\n",
       "        vertical-align: middle;\n",
       "    }\n",
       "\n",
       "    .dataframe tbody tr th {\n",
       "        vertical-align: top;\n",
       "    }\n",
       "\n",
       "    .dataframe thead th {\n",
       "        text-align: right;\n",
       "    }\n",
       "</style>\n",
       "<table border=\"1\" class=\"dataframe\">\n",
       "  <thead>\n",
       "    <tr style=\"text-align: right;\">\n",
       "      <th></th>\n",
       "      <th>date</th>\n",
       "      <th>days</th>\n",
       "      <th>places</th>\n",
       "      <th>price</th>\n",
       "      <th>num</th>\n",
       "      <th>class</th>\n",
       "      <th>train</th>\n",
       "    </tr>\n",
       "  </thead>\n",
       "  <tbody>\n",
       "    <tr>\n",
       "      <th>0</th>\n",
       "      <td>2021-04-03</td>\n",
       "      <td>1</td>\n",
       "      <td>62.0</td>\n",
       "      <td>3275.0</td>\n",
       "      <td>001А</td>\n",
       "      <td>Купе</td>\n",
       "      <td>001А-Купе</td>\n",
       "    </tr>\n",
       "    <tr>\n",
       "      <th>1</th>\n",
       "      <td>2021-04-04</td>\n",
       "      <td>1</td>\n",
       "      <td>33.0</td>\n",
       "      <td>3913.0</td>\n",
       "      <td>001А</td>\n",
       "      <td>Купе</td>\n",
       "      <td>001А-Купе</td>\n",
       "    </tr>\n",
       "  </tbody>\n",
       "</table>\n",
       "</div>"
      ],
      "text/plain": [
       "        date  days  places   price   num class      train\n",
       "0 2021-04-03     1    62.0  3275.0  001А  Купе  001А-Купе\n",
       "1 2021-04-04     1    33.0  3913.0  001А  Купе  001А-Купе"
      ]
     },
     "execution_count": 2,
     "metadata": {},
     "output_type": "execute_result"
    }
   ],
   "source": [
    "data = pd.read_csv('../data/data_raw.csv', parse_dates=['date'], encoding='utf-8')\n",
    "\n",
    "data.head(2)"
   ]
  },
  {
   "cell_type": "code",
   "execution_count": 3,
   "id": "64f0fa4d-fbc6-4cf2-ac39-9ab0ed8a1252",
   "metadata": {},
   "outputs": [
    {
     "data": {
      "text/plain": [
       "144"
      ]
     },
     "execution_count": 3,
     "metadata": {},
     "output_type": "execute_result"
    }
   ],
   "source": [
    "data['train'].nunique()"
   ]
  },
  {
   "cell_type": "markdown",
   "id": "35258296-edf2-4441-9b00-b19ed99bd1a9",
   "metadata": {},
   "source": [
    "### Добавляем данные о поездах"
   ]
  },
  {
   "cell_type": "code",
   "execution_count": 4,
   "id": "4a01dc3d-c935-4da3-8598-147927014495",
   "metadata": {},
   "outputs": [
    {
     "data": {
      "text/html": [
       "<div>\n",
       "<style scoped>\n",
       "    .dataframe tbody tr th:only-of-type {\n",
       "        vertical-align: middle;\n",
       "    }\n",
       "\n",
       "    .dataframe tbody tr th {\n",
       "        vertical-align: top;\n",
       "    }\n",
       "\n",
       "    .dataframe thead th {\n",
       "        text-align: right;\n",
       "    }\n",
       "</style>\n",
       "<table border=\"1\" class=\"dataframe\">\n",
       "  <thead>\n",
       "    <tr style=\"text-align: right;\">\n",
       "      <th></th>\n",
       "      <th>num</th>\n",
       "      <th>departure_time</th>\n",
       "      <th>travel_time</th>\n",
       "    </tr>\n",
       "  </thead>\n",
       "  <tbody>\n",
       "    <tr>\n",
       "      <th>0</th>\n",
       "      <td>001А</td>\n",
       "      <td>23:55</td>\n",
       "      <td>08:00</td>\n",
       "    </tr>\n",
       "    <tr>\n",
       "      <th>1</th>\n",
       "      <td>003А</td>\n",
       "      <td>23:30</td>\n",
       "      <td>09:00</td>\n",
       "    </tr>\n",
       "  </tbody>\n",
       "</table>\n",
       "</div>"
      ],
      "text/plain": [
       "    num departure_time travel_time\n",
       "0  001А          23:55       08:00\n",
       "1  003А          23:30       09:00"
      ]
     },
     "execution_count": 4,
     "metadata": {},
     "output_type": "execute_result"
    }
   ],
   "source": [
    "train_data = pd.read_csv('../data/train_data_spb_msk.csv')\n",
    "train_data.head(2)"
   ]
  },
  {
   "cell_type": "code",
   "execution_count": null,
   "id": "48bde3a1-7f67-484e-aa09-00a78c0bedd5",
   "metadata": {},
   "outputs": [],
   "source": []
  },
  {
   "cell_type": "code",
   "execution_count": 5,
   "id": "e2071ff7-6673-451c-92c7-ed6c68d1a97a",
   "metadata": {},
   "outputs": [
    {
     "data": {
      "text/html": [
       "<div>\n",
       "<style scoped>\n",
       "    .dataframe tbody tr th:only-of-type {\n",
       "        vertical-align: middle;\n",
       "    }\n",
       "\n",
       "    .dataframe tbody tr th {\n",
       "        vertical-align: top;\n",
       "    }\n",
       "\n",
       "    .dataframe thead th {\n",
       "        text-align: right;\n",
       "    }\n",
       "</style>\n",
       "<table border=\"1\" class=\"dataframe\">\n",
       "  <thead>\n",
       "    <tr style=\"text-align: right;\">\n",
       "      <th></th>\n",
       "      <th>num</th>\n",
       "      <th>departure_time</th>\n",
       "      <th>travel_time</th>\n",
       "      <th>departure_timestamp</th>\n",
       "      <th>arrival_timestamp</th>\n",
       "    </tr>\n",
       "  </thead>\n",
       "  <tbody>\n",
       "    <tr>\n",
       "      <th>0</th>\n",
       "      <td>001А</td>\n",
       "      <td>23:55</td>\n",
       "      <td>08:00</td>\n",
       "      <td>86100</td>\n",
       "      <td>28500</td>\n",
       "    </tr>\n",
       "    <tr>\n",
       "      <th>1</th>\n",
       "      <td>003А</td>\n",
       "      <td>23:30</td>\n",
       "      <td>09:00</td>\n",
       "      <td>84600</td>\n",
       "      <td>30600</td>\n",
       "    </tr>\n",
       "  </tbody>\n",
       "</table>\n",
       "</div>"
      ],
      "text/plain": [
       "    num departure_time travel_time  departure_timestamp  arrival_timestamp\n",
       "0  001А          23:55       08:00                86100              28500\n",
       "1  003А          23:30       09:00                84600              30600"
      ]
     },
     "execution_count": 5,
     "metadata": {},
     "output_type": "execute_result"
    }
   ],
   "source": [
    "def to_timestamp(time: str) -> int:\n",
    "    hour, minute = time.split(':')\n",
    "    hour = int(hour)\n",
    "    minute = int(minute)\n",
    "    \n",
    "    timestamp = (hour * 60 + minute) * 60\n",
    "    \n",
    "    return timestamp\n",
    "\n",
    "\n",
    "train_data['departure_timestamp'] = train_data['departure_time'].apply(to_timestamp)\n",
    "train_data['arrival_timestamp'] = (train_data['departure_timestamp'] \\\n",
    "    + train_data['travel_time'].apply(to_timestamp)) % (24 * 60 * 60)\n",
    "\n",
    "train_data.head(2)"
   ]
  },
  {
   "cell_type": "code",
   "execution_count": 6,
   "id": "9c3b053c-fa15-4ba0-ac5d-5f575bef8c9d",
   "metadata": {},
   "outputs": [
    {
     "data": {
      "text/html": [
       "<div>\n",
       "<style scoped>\n",
       "    .dataframe tbody tr th:only-of-type {\n",
       "        vertical-align: middle;\n",
       "    }\n",
       "\n",
       "    .dataframe tbody tr th {\n",
       "        vertical-align: top;\n",
       "    }\n",
       "\n",
       "    .dataframe thead th {\n",
       "        text-align: right;\n",
       "    }\n",
       "</style>\n",
       "<table border=\"1\" class=\"dataframe\">\n",
       "  <thead>\n",
       "    <tr style=\"text-align: right;\">\n",
       "      <th></th>\n",
       "      <th>date</th>\n",
       "      <th>days</th>\n",
       "      <th>places</th>\n",
       "      <th>price</th>\n",
       "      <th>num</th>\n",
       "      <th>class</th>\n",
       "      <th>train</th>\n",
       "      <th>departure_timestamp</th>\n",
       "      <th>arrival_timestamp</th>\n",
       "    </tr>\n",
       "  </thead>\n",
       "  <tbody>\n",
       "    <tr>\n",
       "      <th>0</th>\n",
       "      <td>2021-04-03</td>\n",
       "      <td>1</td>\n",
       "      <td>62.0</td>\n",
       "      <td>3275.0</td>\n",
       "      <td>001А</td>\n",
       "      <td>Купе</td>\n",
       "      <td>001А-Купе</td>\n",
       "      <td>86100.0</td>\n",
       "      <td>28500.0</td>\n",
       "    </tr>\n",
       "    <tr>\n",
       "      <th>1</th>\n",
       "      <td>2021-04-04</td>\n",
       "      <td>1</td>\n",
       "      <td>33.0</td>\n",
       "      <td>3913.0</td>\n",
       "      <td>001А</td>\n",
       "      <td>Купе</td>\n",
       "      <td>001А-Купе</td>\n",
       "      <td>86100.0</td>\n",
       "      <td>28500.0</td>\n",
       "    </tr>\n",
       "  </tbody>\n",
       "</table>\n",
       "</div>"
      ],
      "text/plain": [
       "        date  days  places   price   num class      train  \\\n",
       "0 2021-04-03     1    62.0  3275.0  001А  Купе  001А-Купе   \n",
       "1 2021-04-04     1    33.0  3913.0  001А  Купе  001А-Купе   \n",
       "\n",
       "   departure_timestamp  arrival_timestamp  \n",
       "0              86100.0            28500.0  \n",
       "1              86100.0            28500.0  "
      ]
     },
     "execution_count": 6,
     "metadata": {},
     "output_type": "execute_result"
    }
   ],
   "source": [
    "data = data.merge(\n",
    "    train_data[['num', 'departure_timestamp', 'arrival_timestamp']],\n",
    "    on='num',\n",
    "    how='left',\n",
    ")\n",
    "\n",
    "data.head(2)"
   ]
  },
  {
   "cell_type": "code",
   "execution_count": 7,
   "id": "b83bf7e4-3561-4bc1-9902-c2f781ff608a",
   "metadata": {},
   "outputs": [
    {
     "data": {
      "text/plain": [
       "array(['701Н', '702Н', '703Н', '704Н', '705Н', '706Н', '707Н', '708Н',\n",
       "       '709Н', '710Н'], dtype=object)"
      ]
     },
     "execution_count": 7,
     "metadata": {},
     "output_type": "execute_result"
    }
   ],
   "source": [
    "data.loc[data['departure_timestamp'].isna(), 'num'].unique()"
   ]
  },
  {
   "cell_type": "markdown",
   "id": "3f4297f0",
   "metadata": {},
   "source": [
    "### Удаляем данные за праздники (29 апреля — 12 мая)"
   ]
  },
  {
   "cell_type": "code",
   "execution_count": 8,
   "id": "0a11db5f",
   "metadata": {},
   "outputs": [
    {
     "data": {
      "text/html": [
       "<div>\n",
       "<style scoped>\n",
       "    .dataframe tbody tr th:only-of-type {\n",
       "        vertical-align: middle;\n",
       "    }\n",
       "\n",
       "    .dataframe tbody tr th {\n",
       "        vertical-align: top;\n",
       "    }\n",
       "\n",
       "    .dataframe thead th {\n",
       "        text-align: right;\n",
       "    }\n",
       "</style>\n",
       "<table border=\"1\" class=\"dataframe\">\n",
       "  <thead>\n",
       "    <tr style=\"text-align: right;\">\n",
       "      <th></th>\n",
       "      <th>date</th>\n",
       "      <th>days</th>\n",
       "      <th>places</th>\n",
       "      <th>price</th>\n",
       "      <th>num</th>\n",
       "      <th>class</th>\n",
       "      <th>train</th>\n",
       "      <th>departure_timestamp</th>\n",
       "      <th>arrival_timestamp</th>\n",
       "    </tr>\n",
       "  </thead>\n",
       "  <tbody>\n",
       "    <tr>\n",
       "      <th>0</th>\n",
       "      <td>2021-04-03</td>\n",
       "      <td>1</td>\n",
       "      <td>62.0</td>\n",
       "      <td>3275.0</td>\n",
       "      <td>001А</td>\n",
       "      <td>Купе</td>\n",
       "      <td>001А-Купе</td>\n",
       "      <td>86100.0</td>\n",
       "      <td>28500.0</td>\n",
       "    </tr>\n",
       "    <tr>\n",
       "      <th>1</th>\n",
       "      <td>2021-04-04</td>\n",
       "      <td>1</td>\n",
       "      <td>33.0</td>\n",
       "      <td>3913.0</td>\n",
       "      <td>001А</td>\n",
       "      <td>Купе</td>\n",
       "      <td>001А-Купе</td>\n",
       "      <td>86100.0</td>\n",
       "      <td>28500.0</td>\n",
       "    </tr>\n",
       "  </tbody>\n",
       "</table>\n",
       "</div>"
      ],
      "text/plain": [
       "        date  days  places   price   num class      train  \\\n",
       "0 2021-04-03     1    62.0  3275.0  001А  Купе  001А-Купе   \n",
       "1 2021-04-04     1    33.0  3913.0  001А  Купе  001А-Купе   \n",
       "\n",
       "   departure_timestamp  arrival_timestamp  \n",
       "0              86100.0            28500.0  \n",
       "1              86100.0            28500.0  "
      ]
     },
     "execution_count": 8,
     "metadata": {},
     "output_type": "execute_result"
    }
   ],
   "source": [
    "holidays = np.arange(\n",
    "    datetime(year=2021, month=4, day=29),\n",
    "    datetime(year=2021, month=5, day=13),\n",
    "    timedelta(days=1),\n",
    ")\n",
    "\n",
    "data = data[~data['date'].isin(holidays)].copy()\n",
    "\n",
    "data.head(2)"
   ]
  },
  {
   "cell_type": "markdown",
   "id": "aecc9aad",
   "metadata": {},
   "source": [
    "### Заполненность строк для разных поездов"
   ]
  },
  {
   "cell_type": "code",
   "execution_count": 9,
   "id": "c7d72dd2-2c11-40e9-9f98-6a54dbc7ad87",
   "metadata": {},
   "outputs": [],
   "source": [
    "dates = data['date'].drop_duplicates().sort_values().values\n",
    "\n",
    "split_id = np.where(dates > holidays[-1])[0][0]"
   ]
  },
  {
   "cell_type": "code",
   "execution_count": 10,
   "id": "fa95f9a8-f8ba-4ef6-9403-10e844dcaca5",
   "metadata": {},
   "outputs": [],
   "source": [
    "def date_formatter(dt: datetime) -> str:\n",
    "    return dt.strftime('%b %d (%a)')"
   ]
  },
  {
   "cell_type": "code",
   "execution_count": 11,
   "id": "4cbf2ea9-13b9-44ed-ad9d-67e45b3ec575",
   "metadata": {},
   "outputs": [
    {
     "data": {
      "text/html": [
       "<div>\n",
       "<style scoped>\n",
       "    .dataframe tbody tr th:only-of-type {\n",
       "        vertical-align: middle;\n",
       "    }\n",
       "\n",
       "    .dataframe tbody tr th {\n",
       "        vertical-align: top;\n",
       "    }\n",
       "\n",
       "    .dataframe thead th {\n",
       "        text-align: right;\n",
       "    }\n",
       "</style>\n",
       "<table border=\"1\" class=\"dataframe\">\n",
       "  <thead>\n",
       "    <tr style=\"text-align: right;\">\n",
       "      <th></th>\n",
       "      <th>001А-Купе</th>\n",
       "      <th>001А-СВ</th>\n",
       "      <th>002А-Купе</th>\n",
       "      <th>002А-СВ</th>\n",
       "      <th>003А-Купе</th>\n",
       "      <th>003А-СВ</th>\n",
       "      <th>004А-Купе</th>\n",
       "      <th>004А-СВ</th>\n",
       "      <th>005А-Купе</th>\n",
       "      <th>005А-СВ</th>\n",
       "      <th>...</th>\n",
       "      <th>778А-C1</th>\n",
       "      <th>778А-C2</th>\n",
       "      <th>779А-B1</th>\n",
       "      <th>779А-B2</th>\n",
       "      <th>779А-C1</th>\n",
       "      <th>779А-C2</th>\n",
       "      <th>780А-B1</th>\n",
       "      <th>780А-B2</th>\n",
       "      <th>780А-C1</th>\n",
       "      <th>780А-C2</th>\n",
       "    </tr>\n",
       "    <tr>\n",
       "      <th>date</th>\n",
       "      <th></th>\n",
       "      <th></th>\n",
       "      <th></th>\n",
       "      <th></th>\n",
       "      <th></th>\n",
       "      <th></th>\n",
       "      <th></th>\n",
       "      <th></th>\n",
       "      <th></th>\n",
       "      <th></th>\n",
       "      <th></th>\n",
       "      <th></th>\n",
       "      <th></th>\n",
       "      <th></th>\n",
       "      <th></th>\n",
       "      <th></th>\n",
       "      <th></th>\n",
       "      <th></th>\n",
       "      <th></th>\n",
       "      <th></th>\n",
       "      <th></th>\n",
       "    </tr>\n",
       "  </thead>\n",
       "  <tbody>\n",
       "    <tr>\n",
       "      <th>Apr 03 (Sat)</th>\n",
       "      <td>0.333333</td>\n",
       "      <td>0.333333</td>\n",
       "      <td>0.333333</td>\n",
       "      <td>0.333333</td>\n",
       "      <td>0.000000</td>\n",
       "      <td>0.000000</td>\n",
       "      <td>0.000000</td>\n",
       "      <td>0.000000</td>\n",
       "      <td>0.333333</td>\n",
       "      <td>0.333333</td>\n",
       "      <td>...</td>\n",
       "      <td>0.333333</td>\n",
       "      <td>0.333333</td>\n",
       "      <td>0.333333</td>\n",
       "      <td>0.333333</td>\n",
       "      <td>0.333333</td>\n",
       "      <td>0.333333</td>\n",
       "      <td>0.333333</td>\n",
       "      <td>0.333333</td>\n",
       "      <td>0.333333</td>\n",
       "      <td>0.333333</td>\n",
       "    </tr>\n",
       "    <tr>\n",
       "      <th>Apr 04 (Sun)</th>\n",
       "      <td>0.366667</td>\n",
       "      <td>0.366667</td>\n",
       "      <td>0.366667</td>\n",
       "      <td>0.366667</td>\n",
       "      <td>0.366667</td>\n",
       "      <td>0.366667</td>\n",
       "      <td>0.366667</td>\n",
       "      <td>0.366667</td>\n",
       "      <td>0.366667</td>\n",
       "      <td>0.366667</td>\n",
       "      <td>...</td>\n",
       "      <td>0.366667</td>\n",
       "      <td>0.366667</td>\n",
       "      <td>0.366667</td>\n",
       "      <td>0.366667</td>\n",
       "      <td>0.366667</td>\n",
       "      <td>0.366667</td>\n",
       "      <td>0.366667</td>\n",
       "      <td>0.366667</td>\n",
       "      <td>0.366667</td>\n",
       "      <td>0.366667</td>\n",
       "    </tr>\n",
       "  </tbody>\n",
       "</table>\n",
       "<p>2 rows × 144 columns</p>\n",
       "</div>"
      ],
      "text/plain": [
       "              001А-Купе   001А-СВ  002А-Купе   002А-СВ  003А-Купе   003А-СВ  \\\n",
       "date                                                                          \n",
       "Apr 03 (Sat)   0.333333  0.333333   0.333333  0.333333   0.000000  0.000000   \n",
       "Apr 04 (Sun)   0.366667  0.366667   0.366667  0.366667   0.366667  0.366667   \n",
       "\n",
       "              004А-Купе   004А-СВ  005А-Купе   005А-СВ  ...   778А-C1  \\\n",
       "date                                                    ...             \n",
       "Apr 03 (Sat)   0.000000  0.000000   0.333333  0.333333  ...  0.333333   \n",
       "Apr 04 (Sun)   0.366667  0.366667   0.366667  0.366667  ...  0.366667   \n",
       "\n",
       "               778А-C2   779А-B1   779А-B2   779А-C1   779А-C2   780А-B1  \\\n",
       "date                                                                       \n",
       "Apr 03 (Sat)  0.333333  0.333333  0.333333  0.333333  0.333333  0.333333   \n",
       "Apr 04 (Sun)  0.366667  0.366667  0.366667  0.366667  0.366667  0.366667   \n",
       "\n",
       "               780А-B2   780А-C1   780А-C2  \n",
       "date                                        \n",
       "Apr 03 (Sat)  0.333333  0.333333  0.333333  \n",
       "Apr 04 (Sun)  0.366667  0.366667  0.366667  \n",
       "\n",
       "[2 rows x 144 columns]"
      ]
     },
     "execution_count": 11,
     "metadata": {},
     "output_type": "execute_result"
    }
   ],
   "source": [
    "filled_frac = pd.DataFrame({\n",
    "    train: data[(data['train'] == train) & (data['days'] <= 30)]\\\n",
    "                    .pivot(index='date', columns='days', values='places')\\\n",
    "                    .notna().mean(axis=1)\n",
    "    for train in sorted(data['train'].unique())\n",
    "}).reindex(dates).fillna(0)\n",
    "filled_frac.index = filled_frac.index.map(date_formatter)\n",
    "\n",
    "filled_frac.head(2)"
   ]
  },
  {
   "cell_type": "code",
   "execution_count": 12,
   "id": "8cfe8706-6eb2-4fe0-9228-24dc307440d9",
   "metadata": {},
   "outputs": [
    {
     "data": {
      "image/png": "[encoded data removed]",
      "text/plain": [
       "<Figure size 1440x576 with 2 Axes>"
      ]
     },
     "metadata": {},
     "output_type": "display_data"
    }
   ],
   "source": [
    "ax = plt.figure(figsize=(20, 8)).gca()\n",
    "sns.heatmap(filled_frac, vmin=0, vmax=1, ax=ax, xticklabels=True, yticklabels=True,\n",
    "            cmap='coolwarm', cbar_kws={'aspect': 40})\n",
    "\n",
    "ax.axhline(split_id, c='k', ls='dashed', lw=1)\n",
    "\n",
    "for i in np.arange(0, filled_frac.shape[0], 7)[1:]:\n",
    "    ax.axhline(i, c='k', ls='dotted', lw=0.8)\n",
    "\n",
    "ax.set_xlabel('train')\n",
    "ax.tick_params(axis='both', which='major', labelsize=6)\n",
    "\n",
    "ax.set_title('Fraction of filled values for different trains\\n'\n",
    "             '(30-day lag)')\n",
    "\n",
    "plt.savefig('../data/figures/filled_frac.pdf', transparent=True, bbox_inches='tight')\n",
    "# plt.close()"
   ]
  },
  {
   "cell_type": "markdown",
   "id": "83e4b284",
   "metadata": {},
   "source": [
    "### Удаляем поезда, по которым слишком мало данных\n",
    "\n",
    "__Важно!__ Надо не забыть, что мы не просто выкидываем данные, а планируем рассмотреть их отдельно, когда данных станет больше."
   ]
  },
  {
   "cell_type": "code",
   "execution_count": 13,
   "id": "d44aa5c2",
   "metadata": {},
   "outputs": [
    {
     "data": {
      "text/plain": [
       "116"
      ]
     },
     "execution_count": 13,
     "metadata": {},
     "output_type": "execute_result"
    }
   ],
   "source": [
    "train_nums_to_remove = ['003А', '004А', '761А', '762А', '763А', '764А', '765А', '766А']\n",
    "\n",
    "data = data[~data['num'].isin(train_nums_to_remove)].copy()\n",
    "\n",
    "data['train'].nunique()"
   ]
  },
  {
   "cell_type": "markdown",
   "id": "a14f123a-f329-4ce1-a9a6-fd648efaae11",
   "metadata": {},
   "source": [
    "### Вместимость каждого поезда в зависимости от даты"
   ]
  },
  {
   "cell_type": "code",
   "execution_count": 14,
   "id": "78a6ce99-85d8-4454-9d20-aaafe6e543a4",
   "metadata": {},
   "outputs": [
    {
     "data": {
      "text/html": [
       "<div>\n",
       "<style scoped>\n",
       "    .dataframe tbody tr th:only-of-type {\n",
       "        vertical-align: middle;\n",
       "    }\n",
       "\n",
       "    .dataframe tbody tr th {\n",
       "        vertical-align: top;\n",
       "    }\n",
       "\n",
       "    .dataframe thead th {\n",
       "        text-align: right;\n",
       "    }\n",
       "</style>\n",
       "<table border=\"1\" class=\"dataframe\">\n",
       "  <thead>\n",
       "    <tr style=\"text-align: right;\">\n",
       "      <th>train</th>\n",
       "      <th>001А-Купе</th>\n",
       "      <th>001А-СВ</th>\n",
       "      <th>002А-Купе</th>\n",
       "      <th>002А-СВ</th>\n",
       "      <th>005А-Купе</th>\n",
       "      <th>005А-СВ</th>\n",
       "      <th>006А-Купе</th>\n",
       "      <th>006А-СВ</th>\n",
       "      <th>701Н-СВ</th>\n",
       "      <th>701Н-Сидячий</th>\n",
       "      <th>...</th>\n",
       "      <th>778А-C1</th>\n",
       "      <th>778А-C2</th>\n",
       "      <th>779А-B1</th>\n",
       "      <th>779А-B2</th>\n",
       "      <th>779А-C1</th>\n",
       "      <th>779А-C2</th>\n",
       "      <th>780А-B1</th>\n",
       "      <th>780А-B2</th>\n",
       "      <th>780А-C1</th>\n",
       "      <th>780А-C2</th>\n",
       "    </tr>\n",
       "    <tr>\n",
       "      <th>date</th>\n",
       "      <th></th>\n",
       "      <th></th>\n",
       "      <th></th>\n",
       "      <th></th>\n",
       "      <th></th>\n",
       "      <th></th>\n",
       "      <th></th>\n",
       "      <th></th>\n",
       "      <th></th>\n",
       "      <th></th>\n",
       "      <th></th>\n",
       "      <th></th>\n",
       "      <th></th>\n",
       "      <th></th>\n",
       "      <th></th>\n",
       "      <th></th>\n",
       "      <th></th>\n",
       "      <th></th>\n",
       "      <th></th>\n",
       "      <th></th>\n",
       "      <th></th>\n",
       "    </tr>\n",
       "  </thead>\n",
       "  <tbody>\n",
       "    <tr>\n",
       "      <th>Apr 03 (Sat)</th>\n",
       "      <td>0.750000</td>\n",
       "      <td>0.867188</td>\n",
       "      <td>0.652778</td>\n",
       "      <td>0.859375</td>\n",
       "      <td>0.577023</td>\n",
       "      <td>0.607143</td>\n",
       "      <td>0.347990</td>\n",
       "      <td>0.821429</td>\n",
       "      <td>0.952381</td>\n",
       "      <td>0.806268</td>\n",
       "      <td>...</td>\n",
       "      <td>0.931818</td>\n",
       "      <td>0.870270</td>\n",
       "      <td>1.000000</td>\n",
       "      <td>0.918367</td>\n",
       "      <td>1.0</td>\n",
       "      <td>0.809783</td>\n",
       "      <td>1.000000</td>\n",
       "      <td>0.877551</td>\n",
       "      <td>0.909091</td>\n",
       "      <td>0.829268</td>\n",
       "    </tr>\n",
       "    <tr>\n",
       "      <th>Apr 04 (Sun)</th>\n",
       "      <td>0.564286</td>\n",
       "      <td>0.820312</td>\n",
       "      <td>0.777778</td>\n",
       "      <td>0.773438</td>\n",
       "      <td>0.469974</td>\n",
       "      <td>0.535714</td>\n",
       "      <td>0.488693</td>\n",
       "      <td>0.750000</td>\n",
       "      <td>0.857143</td>\n",
       "      <td>0.820513</td>\n",
       "      <td>...</td>\n",
       "      <td>0.954545</td>\n",
       "      <td>0.716216</td>\n",
       "      <td>0.823529</td>\n",
       "      <td>0.244898</td>\n",
       "      <td>0.5</td>\n",
       "      <td>0.171196</td>\n",
       "      <td>0.764706</td>\n",
       "      <td>0.448980</td>\n",
       "      <td>1.000000</td>\n",
       "      <td>0.471545</td>\n",
       "    </tr>\n",
       "  </tbody>\n",
       "</table>\n",
       "<p>2 rows × 116 columns</p>\n",
       "</div>"
      ],
      "text/plain": [
       "train         001А-Купе   001А-СВ  002А-Купе   002А-СВ  005А-Купе   005А-СВ  \\\n",
       "date                                                                          \n",
       "Apr 03 (Sat)   0.750000  0.867188   0.652778  0.859375   0.577023  0.607143   \n",
       "Apr 04 (Sun)   0.564286  0.820312   0.777778  0.773438   0.469974  0.535714   \n",
       "\n",
       "train         006А-Купе   006А-СВ   701Н-СВ  701Н-Сидячий  ...   778А-C1  \\\n",
       "date                                                        ...             \n",
       "Apr 03 (Sat)   0.347990  0.821429  0.952381       0.806268  ...  0.931818   \n",
       "Apr 04 (Sun)   0.488693  0.750000  0.857143       0.820513  ...  0.954545   \n",
       "\n",
       "train          778А-C2   779А-B1   779А-B2  779А-C1   779А-C2   780А-B1  \\\n",
       "date                                                                      \n",
       "Apr 03 (Sat)  0.870270  1.000000  0.918367      1.0  0.809783  1.000000   \n",
       "Apr 04 (Sun)  0.716216  0.823529  0.244898      0.5  0.171196  0.764706   \n",
       "\n",
       "train          780А-B2   780А-C1   780А-C2  \n",
       "date                                        \n",
       "Apr 03 (Sat)  0.877551  0.909091  0.829268  \n",
       "Apr 04 (Sun)  0.448980  1.000000  0.471545  \n",
       "\n",
       "[2 rows x 116 columns]"
      ]
     },
     "execution_count": 14,
     "metadata": {},
     "output_type": "execute_result"
    }
   ],
   "source": [
    "capacity = data.groupby(['train', 'date'])['places'].max().reset_index()\\\n",
    "    .pivot(index='date', columns='train', values='places')\\\n",
    "    .reindex(dates).fillna(0)\n",
    "capacity /= capacity.max()\n",
    "capacity.index = capacity.index.map(date_formatter)\n",
    "\n",
    "capacity.head(2)"
   ]
  },
  {
   "cell_type": "code",
   "execution_count": 15,
   "id": "a4d94734-088c-4b1e-a886-f7c3d93262e9",
   "metadata": {},
   "outputs": [
    {
     "data": {
      "image/png": "[encoded data removed]",
      "text/plain": [
       "<Figure size 1440x576 with 2 Axes>"
      ]
     },
     "metadata": {},
     "output_type": "display_data"
    }
   ],
   "source": [
    "ax = plt.figure(figsize=(20, 8)).gca()\n",
    "sns.heatmap(capacity, ax=ax, xticklabels=True, yticklabels=True,\n",
    "            cmap='coolwarm', cbar_kws={'aspect': 40})\n",
    "\n",
    "ax.axhline(split_id, c='k', ls='dashed', lw=1)\n",
    "\n",
    "for i in np.arange(0, filled_frac.shape[0], 7)[1:]:\n",
    "    ax.axhline(i, c='k', ls='dotted', lw=0.8)\n",
    "\n",
    "ax.set_xlabel('train')\n",
    "ax.tick_params(axis='both', which='major', labelsize=6)\n",
    "\n",
    "ax.set_title('Capacity of different trains\\n'\n",
    "             '(relative to the maximal capacity over observed days)')\n",
    "\n",
    "plt.savefig('../data/figures/capacity.pdf', transparent=True, bbox_inches='tight')\n",
    "# plt.close()"
   ]
  },
  {
   "cell_type": "markdown",
   "id": "26ccc333-e124-4210-96e6-3d6da403d904",
   "metadata": {},
   "source": [
    "### Удаляем для некоторых поездов даты, в которые количество вагонов существенно отличается\n",
    "\n",
    "Белые пятна на картинке выше свидетельствуют о том, что в отдельные дни администрацией РЖД меняется количество вагонов у поезда. Такого рода ситуации надо обрабатывать отдельно. Пока что просто выкидываем."
   ]
  },
  {
   "cell_type": "code",
   "execution_count": 16,
   "id": "e60eb6f9-28c4-4000-809b-1796497367c6",
   "metadata": {},
   "outputs": [
    {
     "name": "stdout",
     "output_type": "stream",
     "text": [
      "593\n"
     ]
    }
   ],
   "source": [
    "mask = data['train'].isin(['005А-Купе', '006А-Купе'])\\\n",
    "    & (data['date'].dt.weekday == 4)\n",
    "\n",
    "print(mask.sum())\n",
    "\n",
    "data = data[~mask].copy()"
   ]
  },
  {
   "cell_type": "code",
   "execution_count": 17,
   "id": "10976d02-0de2-431f-a57b-bc55e7df4c91",
   "metadata": {},
   "outputs": [
    {
     "name": "stdout",
     "output_type": "stream",
     "text": [
      "313\n"
     ]
    }
   ],
   "source": [
    "mask = (data['train'] == '005А-Купе')\\\n",
    "    & (data['date'].dt.weekday == 6)\n",
    "\n",
    "print(mask.sum())\n",
    "\n",
    "data = data[~mask].copy()"
   ]
  },
  {
   "cell_type": "code",
   "execution_count": 18,
   "id": "2ec67521-46f1-43fc-8238-d6550416f15c",
   "metadata": {},
   "outputs": [
    {
     "name": "stdout",
     "output_type": "stream",
     "text": [
      "625\n"
     ]
    }
   ],
   "source": [
    "mask = data['num'].isin(['705Н', '707Н'])\\\n",
    "    & data['class'].str.startswith('Сидячи')\\\n",
    "    & (data['date'].dt.weekday == 6)\n",
    "\n",
    "print(mask.sum())\n",
    "\n",
    "data = data[~mask].copy()"
   ]
  },
  {
   "cell_type": "code",
   "execution_count": 19,
   "id": "eec04820-9566-4d9e-941b-49e10a82264f",
   "metadata": {},
   "outputs": [
    {
     "name": "stdout",
     "output_type": "stream",
     "text": [
      "529\n"
     ]
    }
   ],
   "source": [
    "mask = (data['train'] == '773А-B2') & data['date'].dt.weekday.isin([5, 6])\n",
    "\n",
    "print(mask.sum())\n",
    "\n",
    "data = data[~mask].copy()"
   ]
  },
  {
   "cell_type": "code",
   "execution_count": 20,
   "id": "a96e917e-1b7c-476b-87af-66db55c8ab45",
   "metadata": {},
   "outputs": [
    {
     "name": "stdout",
     "output_type": "stream",
     "text": [
      "1874\n"
     ]
    }
   ],
   "source": [
    "mask = (data['train'].isin(['752А-B2', '757А-B2', '760А-B2', '774А-B2']))\\\n",
    "    & data['date'].dt.weekday.isin([4, 5])\n",
    "\n",
    "print(mask.sum())\n",
    "\n",
    "data = data[~mask].copy()"
   ]
  },
  {
   "cell_type": "code",
   "execution_count": 21,
   "id": "b263da36-e7e0-4e26-87cf-b048850c4798",
   "metadata": {},
   "outputs": [
    {
     "name": "stdout",
     "output_type": "stream",
     "text": [
      "2035\n"
     ]
    }
   ],
   "source": [
    "mask = (data['num'] == '757А') & data['date'].dt.weekday.isin([3, 4])\n",
    "\n",
    "print(mask.sum())\n",
    "\n",
    "data = data[~mask].copy()"
   ]
  },
  {
   "cell_type": "code",
   "execution_count": 22,
   "id": "70d48320-ee95-451a-9a82-76833fc9b981",
   "metadata": {},
   "outputs": [
    {
     "name": "stdout",
     "output_type": "stream",
     "text": [
      "1120\n"
     ]
    }
   ],
   "source": [
    "mask = (data['num'] == '774А') & (data['date'].dt.weekday == 6)\n",
    "\n",
    "print(mask.sum())\n",
    "\n",
    "data = data[~mask].copy()"
   ]
  },
  {
   "cell_type": "code",
   "execution_count": 23,
   "id": "f21168eb-8aac-4a56-aba0-1be38d32e1ec",
   "metadata": {},
   "outputs": [
    {
     "data": {
      "text/plain": [
       "116"
      ]
     },
     "execution_count": 23,
     "metadata": {},
     "output_type": "execute_result"
    }
   ],
   "source": [
    "data['train'].nunique()"
   ]
  },
  {
   "cell_type": "markdown",
   "id": "1cbf0fd2",
   "metadata": {},
   "source": [
    "### Данные по дням недели"
   ]
  },
  {
   "cell_type": "code",
   "execution_count": 24,
   "id": "8c0548d1",
   "metadata": {},
   "outputs": [
    {
     "data": {
      "text/plain": [
       "{0: 'Monday',\n",
       " 1: 'Tuesday',\n",
       " 2: 'Wednesday',\n",
       " 3: 'Thursday',\n",
       " 4: 'Friday',\n",
       " 5: 'Saturday',\n",
       " 6: 'Sunday'}"
      ]
     },
     "execution_count": 24,
     "metadata": {},
     "output_type": "execute_result"
    }
   ],
   "source": [
    "data['weekday'] = data['date'].dt.weekday\n",
    "data['day_name'] = data['date'].dt.day_name()\n",
    "\n",
    "weekdays = data[['weekday', 'day_name']].drop_duplicates().sort_values(by='weekday')\\\n",
    "    .set_index('weekday')['day_name'].to_dict()\n",
    "\n",
    "weekdays"
   ]
  },
  {
   "cell_type": "code",
   "execution_count": 25,
   "id": "6db81257-5c27-4c24-9ad5-6a6f79af87eb",
   "metadata": {},
   "outputs": [
    {
     "data": {
      "text/plain": [
       "116"
      ]
     },
     "execution_count": 25,
     "metadata": {},
     "output_type": "execute_result"
    }
   ],
   "source": [
    "trains = data['train'].drop_duplicates().sort_values().values\n",
    "len(trains)"
   ]
  },
  {
   "cell_type": "code",
   "execution_count": 26,
   "id": "9268241f",
   "metadata": {},
   "outputs": [
    {
     "name": "stderr",
     "output_type": "stream",
     "text": [
      "No handles with labels found to put in legend.\n"
     ]
    }
   ],
   "source": [
    "ncols = 6\n",
    "nrows = len(trains) // ncols + (len(trains) % ncols > 0)\n",
    "\n",
    "fig, axes = plt.subplots(ncols=ncols, nrows=nrows)\n",
    "fig.set_size_inches(3 * ncols, 3 * nrows)\n",
    "fig.subplots_adjust(wspace=0.4, hspace=0.5)\n",
    "axes = axes.flatten()\n",
    "\n",
    "for train, ax in zip(trains, axes):\n",
    "    train_data = data[data['train'] == train]\\\n",
    "        .pivot(index='date', columns='days', values='places')\n",
    "    \n",
    "    for date, row in train_data.iterrows():\n",
    "        weekday = date.weekday()\n",
    "        \n",
    "        _, labels = ax.get_legend_handles_labels()\n",
    "        \n",
    "        label = weekdays[weekday]\n",
    "        \n",
    "        if label in labels:\n",
    "            label = None\n",
    "        \n",
    "        ax.plot(row, c=f'C{weekday}', lw=0.5, label=label)\n",
    "    \n",
    "    ax.set_title(train)\n",
    "    ax.invert_xaxis()\n",
    "    \n",
    "for i in range(1, nrows, 3):\n",
    "    axes[(i + 1) * ncols - 1].legend(loc='upper left', bbox_to_anchor=(1, 1))\n",
    "\n",
    "for i in range(len(trains), len(axes)):\n",
    "    axes[i].axis('off')\n",
    "    \n",
    "plt.savefig('../data/figures/places_vs_weekday.pdf', transparent=True, bbox_inches='tight')\n",
    "plt.close()"
   ]
  },
  {
   "cell_type": "markdown",
   "id": "67eb7487-d3ec-4071-8d27-65fa65ac9a59",
   "metadata": {},
   "source": [
    "### Точечные исправления данных, где это возможно"
   ]
  },
  {
   "cell_type": "markdown",
   "id": "f62420f4-c2c8-413c-bafb-7de7cb688054",
   "metadata": {},
   "source": [
    "Несколько явно мусорных значений."
   ]
  },
  {
   "cell_type": "code",
   "execution_count": 27,
   "id": "bfa03aca-decf-4eab-bc81-4eaa3caec607",
   "metadata": {},
   "outputs": [],
   "source": [
    "for train in ['757А-C1', '770А-C1']:\n",
    "    for date, days in [\n",
    "        (datetime(year=2021, month=5, day=16), 32),\n",
    "        (datetime(year=2021, month=5, day=23), 39),\n",
    "    ]:\n",
    "        mask = (data['train'] == train)\\\n",
    "            & (data['date'] == date)\\\n",
    "            & (data['days'] == days)\n",
    "        \n",
    "        data.loc[mask, 'places'] = np.nan"
   ]
  },
  {
   "cell_type": "code",
   "execution_count": 28,
   "id": "87baeb77-7d33-4b0c-9d71-140a1e38552d",
   "metadata": {},
   "outputs": [],
   "source": [
    "for train in ['757А-C1', '757А-C1']:\n",
    "    mask = (data['train'] == train)\\\n",
    "        & (data['date'] == datetime(year=2021, month=4, day=14))\\\n",
    "        & (data['days'] == 1)\n",
    "    \n",
    "    data.loc[mask, 'places'] = np.nan"
   ]
  },
  {
   "cell_type": "code",
   "execution_count": 29,
   "id": "e22bb663-377d-4f9f-b57b-5b6fede9c8f5",
   "metadata": {},
   "outputs": [],
   "source": [
    "data = data.dropna(subset=['places', 'price'], how='all')"
   ]
  },
  {
   "cell_type": "markdown",
   "id": "4a48f6d7-0ae0-4eb5-b914-7359af719495",
   "metadata": {},
   "source": [
    "Есть несколько поездов, в которых число вагонов явно увеличивалось извне (т.е. со стороны РЖД) в ходе приближения даты отправления. Такие поезда пока выкидываем, потому что это особенность, с которой пока не ясно, как работать."
   ]
  },
  {
   "cell_type": "code",
   "execution_count": 30,
   "id": "3d645030-b315-4afd-90fb-96fe3deb1007",
   "metadata": {},
   "outputs": [],
   "source": [
    "trains_to_remove = ['001А-СВ', '002А-СВ', '005А-Купе', '006А-Купе']\n",
    "\n",
    "data = data[~data['train'].isin(trains_to_remove)].copy()"
   ]
  },
  {
   "cell_type": "code",
   "execution_count": 31,
   "id": "f383d46b-70f8-4f61-b9f6-6c7be6ec5692",
   "metadata": {},
   "outputs": [
    {
     "name": "stdout",
     "output_type": "stream",
     "text": [
      "1779\n"
     ]
    }
   ],
   "source": [
    "mask = (data['train'].isin(['774А-B1', '774А-C1', '774А-C2']))\\\n",
    "    & data['date'].dt.weekday.isin([3, 4])\n",
    "\n",
    "print(mask.sum())\n",
    "\n",
    "data = data[~mask].copy()"
   ]
  },
  {
   "cell_type": "code",
   "execution_count": 32,
   "id": "c0512df6-0706-4e9c-bc5a-697783da0a94",
   "metadata": {},
   "outputs": [
    {
     "data": {
      "text/plain": [
       "112"
      ]
     },
     "execution_count": 32,
     "metadata": {},
     "output_type": "execute_result"
    }
   ],
   "source": [
    "trains = data['train'].drop_duplicates().sort_values().values\n",
    "len(trains)"
   ]
  },
  {
   "cell_type": "code",
   "execution_count": 33,
   "id": "f34d0746-feb1-4570-ad5d-dac163056f17",
   "metadata": {},
   "outputs": [],
   "source": [
    "ncols = 6\n",
    "nrows = len(trains) // ncols + (len(trains) % ncols > 0)\n",
    "\n",
    "fig, axes = plt.subplots(ncols=ncols, nrows=nrows)\n",
    "fig.set_size_inches(3 * ncols, 3 * nrows)\n",
    "fig.subplots_adjust(wspace=0.4, hspace=0.5)\n",
    "axes = axes.flatten()\n",
    "\n",
    "for train, ax in zip(trains, axes):\n",
    "    train_data = data[data['train'] == train]\\\n",
    "        .pivot(index='date', columns='days', values='places')\n",
    "    \n",
    "    for date, row in train_data.iterrows():\n",
    "        weekday = date.weekday()\n",
    "        \n",
    "        _, labels = ax.get_legend_handles_labels()\n",
    "        \n",
    "        label = weekdays[weekday]\n",
    "        \n",
    "        if label in labels:\n",
    "            label = None\n",
    "        \n",
    "        ax.plot(row, c=f'C{weekday}', lw=0.5, label=label)\n",
    "    \n",
    "    ax.set_title(train)\n",
    "    ax.invert_xaxis()\n",
    "    \n",
    "for i in range(1, nrows, 3):\n",
    "    axes[(i + 1) * ncols - 1].legend(loc='upper left', bbox_to_anchor=(1, 1))\n",
    "\n",
    "for i in range(len(trains), len(axes)):\n",
    "    axes[i].axis('off')\n",
    "    \n",
    "plt.savefig('../data/figures/places_vs_weekday_clean.pdf', transparent=True, bbox_inches='tight')\n",
    "plt.close()"
   ]
  },
  {
   "cell_type": "code",
   "execution_count": 34,
   "id": "9ad27f5e-0a14-42b8-a041-1632ec8ba2a4",
   "metadata": {},
   "outputs": [
    {
     "data": {
      "text/html": [
       "<div>\n",
       "<style scoped>\n",
       "    .dataframe tbody tr th:only-of-type {\n",
       "        vertical-align: middle;\n",
       "    }\n",
       "\n",
       "    .dataframe tbody tr th {\n",
       "        vertical-align: top;\n",
       "    }\n",
       "\n",
       "    .dataframe thead th {\n",
       "        text-align: right;\n",
       "    }\n",
       "</style>\n",
       "<table border=\"1\" class=\"dataframe\">\n",
       "  <thead>\n",
       "    <tr style=\"text-align: right;\">\n",
       "      <th></th>\n",
       "      <th>date</th>\n",
       "      <th>days</th>\n",
       "      <th>places</th>\n",
       "      <th>price</th>\n",
       "      <th>num</th>\n",
       "      <th>class</th>\n",
       "      <th>train</th>\n",
       "      <th>departure_timestamp</th>\n",
       "      <th>arrival_timestamp</th>\n",
       "      <th>weekday</th>\n",
       "      <th>day_name</th>\n",
       "      <th>places_frac</th>\n",
       "    </tr>\n",
       "  </thead>\n",
       "  <tbody>\n",
       "    <tr>\n",
       "      <th>0</th>\n",
       "      <td>2021-04-03</td>\n",
       "      <td>1</td>\n",
       "      <td>62.0</td>\n",
       "      <td>3275.0</td>\n",
       "      <td>001А</td>\n",
       "      <td>Купе</td>\n",
       "      <td>001А-Купе</td>\n",
       "      <td>86100.0</td>\n",
       "      <td>28500.0</td>\n",
       "      <td>5</td>\n",
       "      <td>Saturday</td>\n",
       "      <td>0.442857</td>\n",
       "    </tr>\n",
       "    <tr>\n",
       "      <th>1</th>\n",
       "      <td>2021-04-04</td>\n",
       "      <td>1</td>\n",
       "      <td>33.0</td>\n",
       "      <td>3913.0</td>\n",
       "      <td>001А</td>\n",
       "      <td>Купе</td>\n",
       "      <td>001А-Купе</td>\n",
       "      <td>86100.0</td>\n",
       "      <td>28500.0</td>\n",
       "      <td>6</td>\n",
       "      <td>Sunday</td>\n",
       "      <td>0.235714</td>\n",
       "    </tr>\n",
       "  </tbody>\n",
       "</table>\n",
       "</div>"
      ],
      "text/plain": [
       "        date  days  places   price   num class      train  \\\n",
       "0 2021-04-03     1    62.0  3275.0  001А  Купе  001А-Купе   \n",
       "1 2021-04-04     1    33.0  3913.0  001А  Купе  001А-Купе   \n",
       "\n",
       "   departure_timestamp  arrival_timestamp  weekday  day_name  places_frac  \n",
       "0              86100.0            28500.0        5  Saturday     0.442857  \n",
       "1              86100.0            28500.0        6    Sunday     0.235714  "
      ]
     },
     "execution_count": 34,
     "metadata": {},
     "output_type": "execute_result"
    }
   ],
   "source": [
    "for train in data['train'].unique():\n",
    "    mask = data['train'] == train\n",
    "    data.loc[mask, 'places_frac'] = data.loc[mask, 'places'] / data.loc[mask, 'places'].max()\n",
    "    \n",
    "data.head(2)"
   ]
  },
  {
   "cell_type": "markdown",
   "id": "1d4d8290-835c-4083-b05b-ed69fd1471ea",
   "metadata": {},
   "source": [
    "***"
   ]
  },
  {
   "cell_type": "code",
   "execution_count": 35,
   "id": "a0c1deb0",
   "metadata": {},
   "outputs": [],
   "source": [
    "data.to_csv('../data/data.csv', index=False, encoding='utf-8')"
   ]
  },
  {
   "cell_type": "code",
   "execution_count": null,
   "id": "f96076a7-5ce7-4bbf-8250-8b59a1531100",
   "metadata": {},
   "outputs": [],
   "source": []
  }
 ],
 "metadata": {
  "kernelspec": {
   "display_name": "Python 3",
   "language": "python",
   "name": "python3"
  },
  "language_info": {
   "codemirror_mode": {
    "name": "ipython",
    "version": 3
   },
   "file_extension": ".py",
   "mimetype": "text/x-python",
   "name": "python",
   "nbconvert_exporter": "python",
   "pygments_lexer": "ipython3",
   "version": "3.8.10"
  }
 },
 "nbformat": 4,
 "nbformat_minor": 5
}
