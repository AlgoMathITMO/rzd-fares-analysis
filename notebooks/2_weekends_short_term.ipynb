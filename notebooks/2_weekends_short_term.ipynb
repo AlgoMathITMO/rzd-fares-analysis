{
 "cells": [
  {
   "cell_type": "code",
   "execution_count": 1,
   "id": "61e31676",
   "metadata": {},
   "outputs": [],
   "source": [
    "import sys\n",
    "sys.path.append('..')"
   ]
  },
  {
   "cell_type": "code",
   "execution_count": 2,
   "id": "b622ec0a",
   "metadata": {},
   "outputs": [],
   "source": [
    "from typing import Optional\n",
    "\n",
    "import numpy as np\n",
    "import pandas as pd\n",
    "import seaborn as sns\n",
    "from matplotlib import pyplot as plt\n",
    "from matplotlib.colors import LinearSegmentedColormap\n",
    "from tqdm.notebook import tqdm\n",
    "\n",
    "from sklearn.cluster import KMeans\n",
    "\n",
    "from myutils.stats import corrcoef, acfunc\n",
    "from myutils.matplotlib import matplotlib_seaborn_style\n",
    "\n",
    "from src.rzd import PlacePriceModel\n",
    "\n",
    "matplotlib_seaborn_style()"
   ]
  },
  {
   "cell_type": "code",
   "execution_count": 3,
   "id": "d07a5630",
   "metadata": {},
   "outputs": [
    {
     "data": {
      "text/html": [
       "<div>\n",
       "<style scoped>\n",
       "    .dataframe tbody tr th:only-of-type {\n",
       "        vertical-align: middle;\n",
       "    }\n",
       "\n",
       "    .dataframe tbody tr th {\n",
       "        vertical-align: top;\n",
       "    }\n",
       "\n",
       "    .dataframe thead th {\n",
       "        text-align: right;\n",
       "    }\n",
       "</style>\n",
       "<table border=\"1\" class=\"dataframe\">\n",
       "  <thead>\n",
       "    <tr style=\"text-align: right;\">\n",
       "      <th></th>\n",
       "      <th>date</th>\n",
       "      <th>days</th>\n",
       "      <th>places</th>\n",
       "      <th>price</th>\n",
       "      <th>num</th>\n",
       "      <th>class</th>\n",
       "      <th>train</th>\n",
       "      <th>departure_timestamp</th>\n",
       "      <th>arrival_timestamp</th>\n",
       "      <th>places_frac</th>\n",
       "      <th>weekday</th>\n",
       "      <th>day_name</th>\n",
       "    </tr>\n",
       "  </thead>\n",
       "  <tbody>\n",
       "    <tr>\n",
       "      <th>0</th>\n",
       "      <td>2021-04-12</td>\n",
       "      <td>1</td>\n",
       "      <td>28.0</td>\n",
       "      <td>3790.0</td>\n",
       "      <td>001А</td>\n",
       "      <td>Купе</td>\n",
       "      <td>001А-Купе</td>\n",
       "      <td>23.916667</td>\n",
       "      <td>7.916667</td>\n",
       "      <td>0.200000</td>\n",
       "      <td>0</td>\n",
       "      <td>Monday</td>\n",
       "    </tr>\n",
       "    <tr>\n",
       "      <th>1</th>\n",
       "      <td>2021-04-13</td>\n",
       "      <td>1</td>\n",
       "      <td>52.0</td>\n",
       "      <td>3790.0</td>\n",
       "      <td>001А</td>\n",
       "      <td>Купе</td>\n",
       "      <td>001А-Купе</td>\n",
       "      <td>23.916667</td>\n",
       "      <td>7.916667</td>\n",
       "      <td>0.371429</td>\n",
       "      <td>1</td>\n",
       "      <td>Tuesday</td>\n",
       "    </tr>\n",
       "  </tbody>\n",
       "</table>\n",
       "</div>"
      ],
      "text/plain": [
       "        date  days  places   price   num class      train  \\\n",
       "0 2021-04-12     1    28.0  3790.0  001А  Купе  001А-Купе   \n",
       "1 2021-04-13     1    52.0  3790.0  001А  Купе  001А-Купе   \n",
       "\n",
       "   departure_timestamp  arrival_timestamp  places_frac  weekday day_name  \n",
       "0            23.916667           7.916667     0.200000        0   Monday  \n",
       "1            23.916667           7.916667     0.371429        1  Tuesday  "
      ]
     },
     "execution_count": 3,
     "metadata": {},
     "output_type": "execute_result"
    }
   ],
   "source": [
    "data = pd.read_csv('../data/data.csv', parse_dates=['date'], encoding='utf-8')\n",
    "\n",
    "weekdays = data[['weekday', 'day_name']].drop_duplicates().sort_values(by='weekday')\\\n",
    "    .set_index('weekday')['day_name'].to_dict()\n",
    "\n",
    "data.head(2)"
   ]
  },
  {
   "cell_type": "code",
   "execution_count": 4,
   "id": "5807ff6d-dcf3-4e19-a1fb-471ce7cbd30c",
   "metadata": {},
   "outputs": [
    {
     "data": {
      "text/plain": [
       "112"
      ]
     },
     "execution_count": 4,
     "metadata": {},
     "output_type": "execute_result"
    }
   ],
   "source": [
    "trains = sorted(data['train'].unique().tolist())\n",
    "len(trains)"
   ]
  },
  {
   "cell_type": "code",
   "execution_count": 5,
   "id": "1022a913-256c-4ff4-8b96-9ca66632ee79",
   "metadata": {},
   "outputs": [],
   "source": [
    "maxdays = 30"
   ]
  },
  {
   "cell_type": "code",
   "execution_count": 6,
   "id": "8e626cfa-fe32-4fc3-91d4-a26fb0c6a90b",
   "metadata": {},
   "outputs": [
    {
     "data": {
      "application/vnd.jupyter.widget-view+json": {
       "model_id": "f083c514ecc349bebb3e47b407d758cd",
       "version_major": 2,
       "version_minor": 0
      },
      "text/plain": [
       "  0%|          | 0/112 [00:00<?, ?it/s]"
      ]
     },
     "metadata": {},
     "output_type": "display_data"
    },
    {
     "data": {
      "text/html": [
       "<div>\n",
       "<style scoped>\n",
       "    .dataframe tbody tr th:only-of-type {\n",
       "        vertical-align: middle;\n",
       "    }\n",
       "\n",
       "    .dataframe tbody tr th {\n",
       "        vertical-align: top;\n",
       "    }\n",
       "\n",
       "    .dataframe thead th {\n",
       "        text-align: right;\n",
       "    }\n",
       "</style>\n",
       "<table border=\"1\" class=\"dataframe\">\n",
       "  <thead>\n",
       "    <tr style=\"text-align: right;\">\n",
       "      <th></th>\n",
       "      <th>num</th>\n",
       "      <th>class</th>\n",
       "      <th>explained</th>\n",
       "      <th>r2</th>\n",
       "      <th>train</th>\n",
       "    </tr>\n",
       "  </thead>\n",
       "  <tbody>\n",
       "    <tr>\n",
       "      <th>0</th>\n",
       "      <td>001А</td>\n",
       "      <td>Купе</td>\n",
       "      <td>0.789427</td>\n",
       "      <td>0.177405</td>\n",
       "      <td>001А-Купе</td>\n",
       "    </tr>\n",
       "    <tr>\n",
       "      <th>1</th>\n",
       "      <td>002А</td>\n",
       "      <td>Купе</td>\n",
       "      <td>0.823380</td>\n",
       "      <td>0.206602</td>\n",
       "      <td>002А-Купе</td>\n",
       "    </tr>\n",
       "    <tr>\n",
       "      <th>2</th>\n",
       "      <td>005А</td>\n",
       "      <td>СВ</td>\n",
       "      <td>0.847117</td>\n",
       "      <td>0.169174</td>\n",
       "      <td>005А-СВ</td>\n",
       "    </tr>\n",
       "    <tr>\n",
       "      <th>3</th>\n",
       "      <td>006А</td>\n",
       "      <td>СВ</td>\n",
       "      <td>0.876931</td>\n",
       "      <td>0.177509</td>\n",
       "      <td>006А-СВ</td>\n",
       "    </tr>\n",
       "    <tr>\n",
       "      <th>4</th>\n",
       "      <td>701Н</td>\n",
       "      <td>СВ</td>\n",
       "      <td>0.665765</td>\n",
       "      <td>0.624373</td>\n",
       "      <td>701Н-СВ</td>\n",
       "    </tr>\n",
       "  </tbody>\n",
       "</table>\n",
       "</div>"
      ],
      "text/plain": [
       "    num class  explained        r2      train\n",
       "0  001А  Купе   0.789427  0.177405  001А-Купе\n",
       "1  002А  Купе   0.823380  0.206602  002А-Купе\n",
       "2  005А    СВ   0.847117  0.169174    005А-СВ\n",
       "3  006А    СВ   0.876931  0.177509    006А-СВ\n",
       "4  701Н    СВ   0.665765  0.624373    701Н-СВ"
      ]
     },
     "execution_count": 6,
     "metadata": {},
     "output_type": "execute_result"
    }
   ],
   "source": [
    "models = {}\n",
    "metrics = []\n",
    "\n",
    "for train in tqdm(trains):\n",
    "    train_data = data[(data['train'] == train) & (data['days'] <= maxdays)]\n",
    "\n",
    "    places = train_data.pivot(index='date', columns='days', values='places_frac')\n",
    "    prices = train_data.pivot(index='date', columns='days', values='price')\n",
    "    \n",
    "    model = PlacePriceModel(maxiter=100000)\n",
    "    \n",
    "    try:\n",
    "        model.fit(places, prices)\n",
    "        models[train] = model\n",
    "        \n",
    "        train_num, train_class = train.split('-')\n",
    "        metrics.append((train_num, train_class, model.explained_variance, model.r2))\n",
    "        \n",
    "    except Exception as e:\n",
    "        print(train, e)\n",
    "    \n",
    "metrics = pd.DataFrame(metrics, columns=['num', 'class', 'explained', 'r2'])\n",
    "metrics['train'] = metrics['num'] + '-' + metrics['class']\n",
    "\n",
    "metrics.head()"
   ]
  },
  {
   "cell_type": "code",
   "execution_count": 16,
   "id": "60e9ce23-2078-492e-93bf-6eb274cd9ac7",
   "metadata": {},
   "outputs": [
    {
     "data": {
      "text/html": [
       "<div>\n",
       "<style scoped>\n",
       "    .dataframe tbody tr th:only-of-type {\n",
       "        vertical-align: middle;\n",
       "    }\n",
       "\n",
       "    .dataframe tbody tr th {\n",
       "        vertical-align: top;\n",
       "    }\n",
       "\n",
       "    .dataframe thead th {\n",
       "        text-align: right;\n",
       "    }\n",
       "</style>\n",
       "<table border=\"1\" class=\"dataframe\">\n",
       "  <thead>\n",
       "    <tr style=\"text-align: right;\">\n",
       "      <th></th>\n",
       "      <th>001А-Купе</th>\n",
       "      <th>002А-Купе</th>\n",
       "      <th>005А-СВ</th>\n",
       "      <th>006А-СВ</th>\n",
       "      <th>701Н-СВ</th>\n",
       "      <th>701Н-Сидячий</th>\n",
       "      <th>702Н-СВ</th>\n",
       "      <th>702Н-Сидячий</th>\n",
       "      <th>703Н-СВ</th>\n",
       "      <th>703Н-Сидячий</th>\n",
       "      <th>...</th>\n",
       "      <th>778А-C1</th>\n",
       "      <th>778А-C2</th>\n",
       "      <th>779А-B1</th>\n",
       "      <th>779А-B2</th>\n",
       "      <th>779А-C1</th>\n",
       "      <th>779А-C2</th>\n",
       "      <th>780А-B1</th>\n",
       "      <th>780А-B2</th>\n",
       "      <th>780А-C1</th>\n",
       "      <th>780А-C2</th>\n",
       "    </tr>\n",
       "    <tr>\n",
       "      <th>date</th>\n",
       "      <th></th>\n",
       "      <th></th>\n",
       "      <th></th>\n",
       "      <th></th>\n",
       "      <th></th>\n",
       "      <th></th>\n",
       "      <th></th>\n",
       "      <th></th>\n",
       "      <th></th>\n",
       "      <th></th>\n",
       "      <th></th>\n",
       "      <th></th>\n",
       "      <th></th>\n",
       "      <th></th>\n",
       "      <th></th>\n",
       "      <th></th>\n",
       "      <th></th>\n",
       "      <th></th>\n",
       "      <th></th>\n",
       "      <th></th>\n",
       "      <th></th>\n",
       "    </tr>\n",
       "  </thead>\n",
       "  <tbody>\n",
       "    <tr>\n",
       "      <th>2021-04-12</th>\n",
       "      <td>0.272274</td>\n",
       "      <td>0.980876</td>\n",
       "      <td>0.381817</td>\n",
       "      <td>1.793806</td>\n",
       "      <td>NaN</td>\n",
       "      <td>NaN</td>\n",
       "      <td>NaN</td>\n",
       "      <td>0.195136</td>\n",
       "      <td>NaN</td>\n",
       "      <td>NaN</td>\n",
       "      <td>...</td>\n",
       "      <td>-0.075720</td>\n",
       "      <td>0.469554</td>\n",
       "      <td>0.487015</td>\n",
       "      <td>1.394646</td>\n",
       "      <td>0.525794</td>\n",
       "      <td>0.745639</td>\n",
       "      <td>-0.106855</td>\n",
       "      <td>0.797818</td>\n",
       "      <td>0.431548</td>\n",
       "      <td>0.93316</td>\n",
       "    </tr>\n",
       "    <tr>\n",
       "      <th>2021-04-13</th>\n",
       "      <td>0.231674</td>\n",
       "      <td>0.970764</td>\n",
       "      <td>1.083278</td>\n",
       "      <td>1.470325</td>\n",
       "      <td>NaN</td>\n",
       "      <td>0.329414</td>\n",
       "      <td>-0.427934</td>\n",
       "      <td>0.336932</td>\n",
       "      <td>0.960127</td>\n",
       "      <td>0.90381</td>\n",
       "      <td>...</td>\n",
       "      <td>-1.325353</td>\n",
       "      <td>-0.334608</td>\n",
       "      <td>0.464369</td>\n",
       "      <td>1.642654</td>\n",
       "      <td>0.801214</td>\n",
       "      <td>1.138874</td>\n",
       "      <td>-0.090908</td>\n",
       "      <td>0.201627</td>\n",
       "      <td>-0.121707</td>\n",
       "      <td>0.67748</td>\n",
       "    </tr>\n",
       "  </tbody>\n",
       "</table>\n",
       "<p>2 rows × 112 columns</p>\n",
       "</div>"
      ],
      "text/plain": [
       "            001А-Купе  002А-Купе   005А-СВ   006А-СВ  701Н-СВ  701Н-Сидячий  \\\n",
       "date                                                                          \n",
       "2021-04-12   0.272274   0.980876  0.381817  1.793806      NaN           NaN   \n",
       "2021-04-13   0.231674   0.970764  1.083278  1.470325      NaN      0.329414   \n",
       "\n",
       "             702Н-СВ  702Н-Сидячий   703Н-СВ  703Н-Сидячий  ...   778А-C1  \\\n",
       "date                                                        ...             \n",
       "2021-04-12       NaN      0.195136       NaN           NaN  ... -0.075720   \n",
       "2021-04-13 -0.427934      0.336932  0.960127       0.90381  ... -1.325353   \n",
       "\n",
       "             778А-C2   779А-B1   779А-B2   779А-C1   779А-C2   780А-B1  \\\n",
       "date                                                                     \n",
       "2021-04-12  0.469554  0.487015  1.394646  0.525794  0.745639 -0.106855   \n",
       "2021-04-13 -0.334608  0.464369  1.642654  0.801214  1.138874 -0.090908   \n",
       "\n",
       "             780А-B2   780А-C1  780А-C2  \n",
       "date                                     \n",
       "2021-04-12  0.797818  0.431548  0.93316  \n",
       "2021-04-13  0.201627 -0.121707  0.67748  \n",
       "\n",
       "[2 rows x 112 columns]"
      ]
     },
     "execution_count": 16,
     "metadata": {},
     "output_type": "execute_result"
    }
   ],
   "source": [
    "a = pd.DataFrame({train: model.a for train, model in models.items()})\n",
    "\n",
    "a.head(2)"
   ]
  },
  {
   "cell_type": "code",
   "execution_count": 79,
   "id": "9da34aa0-4ebe-48db-8b13-55766cb4cb12",
   "metadata": {},
   "outputs": [
    {
     "data": {
      "text/plain": [
       "Index(['Monday', 'Tuesday', 'Wednesday', 'Thursday', 'Friday', 'Saturday',\n",
       "       'Sunday', 'Monday', 'Tuesday', 'Wednesday', 'Thursday', 'Friday',\n",
       "       'Saturday', 'Sunday', 'Monday', 'Tuesday', 'Wednesday', 'Thursday',\n",
       "       'Friday', 'Saturday', 'Sunday', 'Monday', 'Tuesday', 'Wednesday',\n",
       "       'Thursday', 'Friday', 'Saturday', 'Sunday', 'Monday', 'Tuesday',\n",
       "       'Wednesday', 'Thursday', 'Friday', 'Saturday', 'Sunday', 'Monday',\n",
       "       'Tuesday', 'Wednesday', 'Thursday', 'Friday', 'Saturday', 'Sunday',\n",
       "       'Monday', 'Tuesday', 'Wednesday', 'Thursday', 'Friday', 'Saturday',\n",
       "       'Sunday', 'Monday', 'Tuesday', 'Wednesday', 'Thursday', 'Friday',\n",
       "       'Saturday', 'Sunday', 'Monday', 'Tuesday', 'Wednesday', 'Thursday',\n",
       "       'Friday', 'Saturday', 'Sunday', 'Monday', 'Tuesday', 'Wednesday',\n",
       "       'Thursday', 'Friday', 'Saturday', 'Sunday', 'Monday', 'Tuesday',\n",
       "       'Wednesday', 'Thursday', 'Friday', 'Saturday', 'Sunday', 'Monday',\n",
       "       'Tuesday', 'Wednesday'],\n",
       "      dtype='object', name='date')"
      ]
     },
     "execution_count": 79,
     "metadata": {},
     "output_type": "execute_result"
    }
   ],
   "source": [
    "a.index.day_name()"
   ]
  },
  {
   "cell_type": "code",
   "execution_count": 160,
   "id": "f80cf8eb-afa4-42dd-8269-71add7f9484c",
   "metadata": {},
   "outputs": [],
   "source": [
    "df = {}\n",
    "\n",
    "for train in a.columns:\n",
    "    ts = a[train].copy()\n",
    "    assert abs(ts.mean()) < 1e-8\n",
    "\n",
    "    ts /= ts.std()\n",
    "    ts.index = ts.index.day_name()\n",
    "    \n",
    "    df[train] = ts.groupby(level=0).mean()\n",
    "    \n",
    "df = pd.DataFrame(df).reindex(weekdays.values())"
   ]
  },
  {
   "cell_type": "raw",
   "id": "9f2c21bd-7537-48b8-a6fb-ea6f04e20ba2",
   "metadata": {},
   "source": [
    "df.mean(axis=1).plot(kind='bar')\n",
    "plt.axhline(lw=0.8, c='.8').set_zorder(0)\n",
    "\n",
    "plt.title('Weekly avg. PC values')\n",
    "plt.savefig('../data/figures/weekly_avg_pcs_total.pdf', transparent=True, bbox_inches='tight')"
   ]
  },
  {
   "cell_type": "code",
   "execution_count": 281,
   "id": "cf7abe4a-ed24-464b-8678-efb74d7ce9d0",
   "metadata": {},
   "outputs": [
    {
     "data": {
      "image/png": "[encoded data removed]",
      "text/plain": [
       "<Figure size 1728x216 with 2 Axes>"
      ]
     },
     "metadata": {},
     "output_type": "display_data"
    }
   ],
   "source": [
    "k = 4\n",
    "\n",
    "kmeans = KMeans(n_clusters=k, random_state=2)\n",
    "clusters = pd.Series(kmeans.fit_predict(df.values.T), index=df.columns, name='cluster')\\\n",
    "    .sort_values()\n",
    "\n",
    "df = df[clusters.index]\n",
    "\n",
    "plt.figure(figsize=(24, 3))\n",
    "\n",
    "sns.heatmap(df, square=True, xticklabels=True, cmap='coolwarm', center=0, cbar_kws={'aspect': 10})\n",
    "\n",
    "for n in clusters.value_counts().sort_index().cumsum():\n",
    "    plt.axvline(n, lw=1, c='k', ls='dashed')\n",
    "\n",
    "plt.title('Weekly avg. PC values for different trains')\n",
    "plt.savefig('../data/figures/weekly_avg_pcs.pdf', transparent=True, bbox_inches='tight')"
   ]
  },
  {
   "cell_type": "code",
   "execution_count": 282,
   "id": "cd1ff7ab-c456-417b-a0ce-4246fca4ef4f",
   "metadata": {},
   "outputs": [
    {
     "data": {
      "image/png": "[encoded data removed]",
      "text/plain": [
       "<Figure size 864x288 with 4 Axes>"
      ]
     },
     "metadata": {},
     "output_type": "display_data"
    }
   ],
   "source": [
    "fig, (ax1, ax2, ax3) = plt.subplots(ncols=3)\n",
    "fig.set_size_inches(12, 4)\n",
    "fig.subplots_adjust(wspace=0.35)\n",
    "\n",
    "direction = pd.Series(\n",
    "    df.columns.map(lambda s: 'even' if int(s.split('-')[0][:-1]) % 2 == 0 else 'odd'),\n",
    "    index=df.columns,\n",
    "    name='direction'\n",
    ")\n",
    "\n",
    "sns.heatmap(pd.crosstab(clusters, direction), ax=ax1, square=True, annot=True)\n",
    "\n",
    "arrival_time = data.drop_duplicates('train')\\\n",
    "    .set_index('train')[['departure_timestamp']]\n",
    "arrival_time['cluster'] = clusters\n",
    "\n",
    "sns.swarmplot(data=arrival_time, x='cluster', y='departure_timestamp', size=4, ax=ax2)\n",
    "\n",
    "grp = df.copy().T\n",
    "grp['cluster'] = clusters\n",
    "\n",
    "grp = grp.groupby('cluster').mean()\n",
    "\n",
    "ax3.plot(grp.T)\n",
    "ax3.tick_params(axis='x', rotation=90)\n",
    "\n",
    "plt.savefig('../data/figures/explaining_weekly_avg_clusters.pdf', transparent=True, bbox_inches='tight')"
   ]
  },
  {
   "cell_type": "code",
   "execution_count": 283,
   "id": "348904f6-ca32-45c4-9c2b-e1b90487dc37",
   "metadata": {},
   "outputs": [
    {
     "name": "stdout",
     "output_type": "stream",
     "text": [
      "[NbConvertApp] Converting notebook 2_weekends_short_term.ipynb to html\n",
      "[NbConvertApp] Writing 593183 bytes to 2_weekends_short_term.html\n"
     ]
    }
   ],
   "source": [
    "!jupyter nbconvert --to html 2_weekends_short_term.ipynb"
   ]
  },
  {
   "cell_type": "code",
   "execution_count": null,
   "id": "00ecec47",
   "metadata": {},
   "outputs": [],
   "source": []
  }
 ],
 "metadata": {
  "kernelspec": {
   "display_name": "Python 3",
   "language": "python",
   "name": "python3"
  },
  "language_info": {
   "codemirror_mode": {
    "name": "ipython",
    "version": 3
   },
   "file_extension": ".py",
   "mimetype": "text/x-python",
   "name": "python",
   "nbconvert_exporter": "python",
   "pygments_lexer": "ipython3",
   "version": "3.9.5"
  }
 },
 "nbformat": 4,
 "nbformat_minor": 5
}
