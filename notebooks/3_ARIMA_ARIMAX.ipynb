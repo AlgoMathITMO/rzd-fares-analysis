{
 "cells": [
  {
   "cell_type": "code",
   "execution_count": null,
   "metadata": {},
   "outputs": [],
   "source": [
    "import pandas as pd\n",
    "import numpy as np\n",
    "from scipy import stats\n",
    "import matplotlib.pyplot as plt\n",
    "import statsmodels.api as sm"
   ]
  },
  {
   "cell_type": "code",
   "execution_count": null,
   "metadata": {},
   "outputs": [],
   "source": [
    "#датафрейм, где в первой колонке -- целевая переменная, в остальных -- предикторы с подходящими лагами\n",
    "d = {'Volume of mortgage loans': volume, 'Russian Central Bank Key rate': rate[:-3], 'Consumer price index': index[3:], 'Average apartment price': prices[3:],\n",
    "     'Dollar/ruble exchange rate': usd[2:-1], 'Euro/ruble exchange rate': euro[3:], 'Crude oil price': oil[:-3], 'Yandex Query 1': yandex1[2:-1], \n",
    "     'Yandex Query 2': yandex2[2:-1]}\n",
    "lagged_df = pd.DataFrame(d)"
   ]
  },
  {
   "cell_type": "code",
   "execution_count": null,
   "metadata": {},
   "outputs": [],
   "source": [
    "lagged_df['date'] = df_volume.index\n",
    "lagged_df = lagged_df.set_index('date')\n",
    "size = int(len(lagged_df) * 0.7)\n",
    "df_train, df_test = lagged_df[:size], lagged_df[size:]"
   ]
  },
  {
   "cell_type": "code",
   "execution_count": null,
   "metadata": {},
   "outputs": [],
   "source": [
    "#проверим целевой ряд на стационарность тестом Дики-Фуллера. Если значение p-value < 0.05, то гипотеза о существовании \n",
    "#единичного корня отвергается, d=0\n",
    "print(\"Dickey-Fuller test: p=%f\" % sm.tsa.stattools.adfuller(df_train['Volume of mortgage loans'])[1])"
   ]
  },
  {
   "cell_type": "code",
   "execution_count": null,
   "metadata": {},
   "outputs": [],
   "source": [
    "#если недостаточно оснований для того, чтобы отвергнуть гипотезу (p>0.05), то дифференцируем ряд (теперь будет d=1)\n",
    "df_train['data_diff'] = df_train['trains'] - df_train['trains'].shift(1)\n",
    "#и снова проверяем его на стационарность\n",
    "print(\"Dickey-Fuller test: p=%f\" % sm.tsa.stattools.adfuller(df_train.data_diff[1:])[1])\n",
    "#возможно, придется еще раз дифференцировать или применить какое-то другое преобразование"
   ]
  },
  {
   "cell_type": "code",
   "execution_count": null,
   "metadata": {},
   "outputs": [],
   "source": [
    "#d - порядок дифференцирования, количество лагов можно варьировать в зависимости от длины ряда\n",
    "# autocorrelation\n",
    "%pylab inline\n",
    "plt.figure(figsize(12,6))\n",
    "ax = plt.subplot(211)\n",
    "sm.graphics.tsa.plot_acf(df_train['Volume of mortgage loans'][d:].values.squeeze(), lags=23, ax=ax)\n",
    "pylab.show()\n",
    "\n",
    "# partial autocorrelation \n",
    "ax = plt.subplot(212)\n",
    "sm.graphics.tsa.plot_pacf(df_train['Volume of mortgage loans'][d:].values.squeeze(), lags=10, ax=ax)\n",
    "pylab.show()"
   ]
  },
  {
   "cell_type": "code",
   "execution_count": null,
   "metadata": {},
   "outputs": [],
   "source": [
    "#d уже известен. p смотрим на графике partial autocorrelations, q на графике autocorrelations (последний значимый лаг)\n",
    "from itertools import product\n",
    "ps = range(0, p)\n",
    "d  = d\n",
    "qs = range(0, q)\n",
    "\n",
    "parameters = product(ps, qs)\n",
    "parameters_list = list(parameters)\n",
    "print (\"Number of analysed models:\", len(parameters_list))"
   ]
  },
  {
   "cell_type": "code",
   "execution_count": null,
   "metadata": {},
   "outputs": [],
   "source": [
    "#перебором находим лучшую комбинацию параметров\n",
    "%time\n",
    "results = []\n",
    "best_aic = float(\"inf\")\n",
    "\n",
    "# ignore warnings \n",
    "warnings.filterwarnings('ignore')\n",
    "\n",
    "for param in parameters_list:\n",
    "    \n",
    "    #try except for the case of wrong parameters\n",
    "    try:\n",
    "        model=sm.tsa.statespace.SARIMAX(df_train['Volume of mortgage loans'], order=(param[0], d, param[1]), seasonal_order=(0,0,0,0)).fit()\n",
    "        \n",
    "    #print wrong parameters and go on\n",
    "    # AIC criteria: \n",
    "    except:\n",
    "        print('wrong parameters:', param)\n",
    "        continue\n",
    "    aic = model.aic\n",
    "\n",
    "    # save best model, aic, parameters\n",
    "    if aic < best_aic:\n",
    "        best_model = model\n",
    "        best_aic = aic\n",
    "        best_param = param\n",
    "        results.append([param, model.aic])\n",
    "    \n",
    "warnings.filterwarnings('default')"
   ]
  },
  {
   "cell_type": "code",
   "execution_count": null,
   "metadata": {},
   "outputs": [],
   "source": [
    "result_table = pd.DataFrame(results)\n",
    "result_table.columns = ['parameters', 'aic']\n",
    "print(result_table.sort_values(by = 'aic', ascending=True).head())"
   ]
  },
  {
   "cell_type": "code",
   "execution_count": null,
   "metadata": {},
   "outputs": [],
   "source": [
    "print(best_model.summary())"
   ]
  },
  {
   "cell_type": "code",
   "execution_count": null,
   "metadata": {},
   "outputs": [],
   "source": [
    "#смотрим на остатки: они д.б. нормально распределены (p-value не д.б. <0.05) и стационарны (p-value<0.05 для ДФ теста)\n",
    "plt.subplot(211)\n",
    "best_model.resid[d:].plot()\n",
    "plt.ylabel('Residuals')\n",
    "\n",
    "ax = plt.subplot(212)\n",
    "sm.graphics.tsa.plot_acf(best_model.resid[d:].values.squeeze(), lags=23, ax=ax)\n",
    "\n",
    "print(\"Student test: p=%f\" % stats.ttest_1samp(best_model.resid[d:], 0)[1])\n",
    "print(\"Dickey-Fuller test: p=%.25f\" % sm.tsa.stattools.adfuller(best_model.resid[d:])[1])"
   ]
  },
  {
   "cell_type": "code",
   "execution_count": null,
   "metadata": {},
   "outputs": [],
   "source": [
    "history = [x for x in df_train['Volume of mortgage loans'].values]\n",
    "predictions = list()"
   ]
  },
  {
   "cell_type": "code",
   "execution_count": null,
   "metadata": {},
   "outputs": [],
   "source": [
    "for t in range(len(df_test)):\n",
    "    model = sm.tsa.statespace.SARIMAX(history, order=(p_opt,d,q_opt), seasonal_order=(0,0,0,0))\n",
    "    model_fit = model.fit()\n",
    "    output = model_fit.predict(start=len(df_train)+t, end=len(df_train)+t+1)\n",
    "    yhat = output[0]\n",
    "    predictions.append(yhat)\n",
    "    obs = df_test['Volume of mortgage loans'].values[t]\n",
    "    history.append(obs)"
   ]
  },
  {
   "cell_type": "code",
   "execution_count": null,
   "metadata": {},
   "outputs": [],
   "source": [
    "def MAPE(y_true, y_pred): \n",
    "    y_true, y_pred = np.array(y_true), np.array(y_pred)\n",
    "    return np.mean(np.abs((y_true - y_pred) / y_true)) * 100"
   ]
  },
  {
   "cell_type": "code",
   "execution_count": null,
   "metadata": {},
   "outputs": [],
   "source": [
    "MAPE(df_test['Volume of mortgage loans'], predictions)"
   ]
  },
  {
   "cell_type": "code",
   "execution_count": null,
   "metadata": {},
   "outputs": [],
   "source": [
    "#ARIMAX\n",
    "history = [x for x in df_train['Volume of mortgage loans'].values]\n",
    "ex1 = [x for x in df_train['Russian Central Bank Key rate'].values]\n",
    "ex2 = [x for x in df_train['Dollar/ruble exchange rate'].values]\n",
    "ex3 = [x for x in df_train['Yandex Query 1'].values]\n",
    "ex = np.transpose(np.array([ex1, ex2, ex3]))\n",
    "predictions = list()"
   ]
  },
  {
   "cell_type": "code",
   "execution_count": null,
   "metadata": {},
   "outputs": [],
   "source": [
    "from statsmodels.tsa.statespace.sarimax import SARIMAX\n",
    "for t in range(len(df_test)):\n",
    "    model = SARIMAX(history, exog=ex, order=(p_opt,d,q_opt), seasonal_order=(0,0,0,0))\n",
    "    model_fit = model.fit()\n",
    "    exog1, exog2, exog3 = [], [], []\n",
    "    exog1.append(df_test['Russian Central Bank Key rate'].values[t])\n",
    "    exog2.append(df_test['Dollar/ruble exchange rate'].values[t])\n",
    "    exog3.append(df_test['Yandex Query 1'].values[t])\n",
    "    exog = np.transpose(np.array([exog1, exog2, exog3]))\n",
    "    output = model_fit.predict(start=len(df_train)+t, end=len(df_train)+t, exog=exog)\n",
    "    predictions.append(output[0])\n",
    "    obs = df_test['Volume of mortgage loans'].values[t]\n",
    "    history.append(obs)\n",
    "    ex = np.vstack((ex, exog))"
   ]
  },
  {
   "cell_type": "code",
   "execution_count": null,
   "metadata": {},
   "outputs": [],
   "source": [
    "MAPE(df_test['Volume of mortgage loans'], predictions)"
   ]
  }
 ],
 "metadata": {
  "kernelspec": {
   "display_name": "Python 3",
   "language": "python",
   "name": "python3"
  },
  "language_info": {
   "codemirror_mode": {
    "name": "ipython",
    "version": 3
   },
   "file_extension": ".py",
   "mimetype": "text/x-python",
   "name": "python",
   "nbconvert_exporter": "python",
   "pygments_lexer": "ipython3",
   "version": "3.7.4"
  }
 },
 "nbformat": 4,
 "nbformat_minor": 2
}
