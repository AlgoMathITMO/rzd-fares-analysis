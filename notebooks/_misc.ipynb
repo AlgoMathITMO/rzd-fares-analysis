{
 "cells": [
  {
   "cell_type": "code",
   "execution_count": 1,
   "metadata": {},
   "outputs": [],
   "source": [
    "import sys\n",
    "sys.path.append('..')"
   ]
  },
  {
   "cell_type": "code",
   "execution_count": 2,
   "metadata": {},
   "outputs": [],
   "source": [
    "import numpy as np\n",
    "import matplotlib.pyplot as plt\n",
    "\n",
    "from myutils.matplotlib import matplotlib_seaborn_style\n",
    "\n",
    "from src.missing_values import impute_average, extract_sequences, calculate_slope, nancov\n",
    "\n",
    "matplotlib_seaborn_style()"
   ]
  },
  {
   "cell_type": "code",
   "execution_count": 3,
   "metadata": {},
   "outputs": [
    {
     "data": {
      "text/plain": [
       "[<matplotlib.lines.Line2D at 0x7fd13156d460>]"
      ]
     },
     "execution_count": 3,
     "metadata": {},
     "output_type": "execute_result"
    },
    {
     "data": {
      "image/png": "[encoded data removed]",
      "text/plain": [
       "<Figure size 432x288 with 1 Axes>"
      ]
     },
     "metadata": {},
     "output_type": "display_data"
    }
   ],
   "source": [
    "a = np.array([np.nan, np.nan, 4, 5, 7, 8, np.nan, 11, np.nan, np.nan, 16, np.nan, np.nan])\n",
    "b = impute_average(a)\n",
    "\n",
    "plt.plot(a, marker='o')\n",
    "plt.plot(b, marker='.')"
   ]
  },
  {
   "cell_type": "code",
   "execution_count": null,
   "metadata": {},
   "outputs": [],
   "source": []
  },
  {
   "cell_type": "code",
   "execution_count": null,
   "metadata": {},
   "outputs": [],
   "source": []
  },
  {
   "cell_type": "code",
   "execution_count": null,
   "metadata": {},
   "outputs": [],
   "source": []
  },
  {
   "cell_type": "code",
   "execution_count": null,
   "metadata": {},
   "outputs": [],
   "source": []
  },
  {
   "cell_type": "code",
   "execution_count": 12,
   "metadata": {},
   "outputs": [],
   "source": [
    "period = 10"
   ]
  },
  {
   "cell_type": "code",
   "execution_count": 13,
   "metadata": {},
   "outputs": [
    {
     "data": {
      "text/plain": [
       "[[2, 3, 4, 5], [7], [10]]"
      ]
     },
     "execution_count": 13,
     "metadata": {},
     "output_type": "execute_result"
    }
   ],
   "source": [
    "row = a.copy()\n",
    "\n",
    "idx = np.where(~np.isnan(row))[0]\n",
    "assert len(idx) > 1\n",
    "\n",
    "sequences = extract_sequences(idx)\n",
    "\n",
    "sequences"
   ]
  },
  {
   "cell_type": "code",
   "execution_count": 14,
   "metadata": {},
   "outputs": [
    {
     "data": {
      "text/plain": [
       "array([        nan,         nan,  4.        ,  5.        ,  7.        ,\n",
       "        8.        ,  9.5       , 11.        , 12.66666667, 14.33333333,\n",
       "       16.        ,         nan,         nan])"
      ]
     },
     "execution_count": 14,
     "metadata": {},
     "output_type": "execute_result"
    }
   ],
   "source": [
    "for seq1, seq2 in zip(sequences, sequences[1:]):\n",
    "    start = seq1[-1]\n",
    "    end = seq2[0]\n",
    "    assert end - start > 1\n",
    "\n",
    "    x0 = row[start]\n",
    "    x1 = row[end]\n",
    "    slope = (x1 - x0) / (end - start)\n",
    "\n",
    "    for i in range(start + 1, end):\n",
    "        row[i] = x0 + (i - start) * slope\n",
    "        \n",
    "row"
   ]
  },
  {
   "cell_type": "code",
   "execution_count": 15,
   "metadata": {},
   "outputs": [
    {
     "data": {
      "text/plain": [
       "2"
      ]
     },
     "execution_count": 15,
     "metadata": {},
     "output_type": "execute_result"
    }
   ],
   "source": [
    "start = sequences[0][0]\n",
    "start"
   ]
  },
  {
   "cell_type": "code",
   "execution_count": 19,
   "metadata": {},
   "outputs": [
    {
     "data": {
      "text/plain": [
       "(array([ 2,  3,  4,  5,  6,  7,  8,  9, 10, 11]),\n",
       " array([ 4.        ,  5.        ,  7.        ,  8.        ,  9.5       ,\n",
       "        11.        , 12.66666667, 14.33333333, 16.        ,         nan]),\n",
       " nan)"
      ]
     },
     "execution_count": 19,
     "metadata": {},
     "output_type": "execute_result"
    }
   ],
   "source": [
    "x0 = row[start]\n",
    "\n",
    "ox = np.arange(start, start + period)\n",
    "oy = row[ox]\n",
    "slope = calculate_slope(ox, oy)\n",
    "\n",
    "ox, oy, slope"
   ]
  },
  {
   "cell_type": "code",
   "execution_count": 23,
   "metadata": {},
   "outputs": [
    {
     "data": {
      "text/plain": [
       "array([25.75      , 16.52777778,  6.80555556,  2.58333333,  0.11111111,\n",
       "        0.63888889,  4.41666667, 11.52777778, 21.97222222,         nan])"
      ]
     },
     "execution_count": 23,
     "metadata": {},
     "output_type": "execute_result"
    }
   ],
   "source": [
    "mx = np.nanmean(ox)\n",
    "my = np.nanmean(oy)\n",
    "\n",
    "vals = (ox - mx) * (oy - my)\n",
    "\n",
    "vals"
   ]
  },
  {
   "cell_type": "code",
   "execution_count": 21,
   "metadata": {},
   "outputs": [
    {
     "data": {
      "text/plain": [
       "nan"
      ]
     },
     "execution_count": 21,
     "metadata": {},
     "output_type": "execute_result"
    }
   ],
   "source": [
    "nancov(ox, oy)"
   ]
  },
  {
   "cell_type": "code",
   "execution_count": 26,
   "metadata": {},
   "outputs": [
    {
     "data": {
      "text/plain": [
       "8"
      ]
     },
     "execution_count": 26,
     "metadata": {},
     "output_type": "execute_result"
    }
   ],
   "source": [
    "n = ox.size - np.isnan(vals).sum() - 1\n",
    "\n",
    "n"
   ]
  },
  {
   "cell_type": "code",
   "execution_count": 4,
   "metadata": {},
   "outputs": [
    {
     "data": {
      "text/html": [
       "<div>\n",
       "<style scoped>\n",
       "    .dataframe tbody tr th:only-of-type {\n",
       "        vertical-align: middle;\n",
       "    }\n",
       "\n",
       "    .dataframe tbody tr th {\n",
       "        vertical-align: top;\n",
       "    }\n",
       "\n",
       "    .dataframe thead th {\n",
       "        text-align: right;\n",
       "    }\n",
       "</style>\n",
       "<table border=\"1\" class=\"dataframe\">\n",
       "  <thead>\n",
       "    <tr style=\"text-align: right;\">\n",
       "      <th></th>\n",
       "      <th>mu</th>\n",
       "      <th>eig</th>\n",
       "      <th>both</th>\n",
       "    </tr>\n",
       "    <tr>\n",
       "      <th>train</th>\n",
       "      <th></th>\n",
       "      <th></th>\n",
       "      <th></th>\n",
       "    </tr>\n",
       "  </thead>\n",
       "  <tbody>\n",
       "    <tr>\n",
       "      <th>001А-Купе</th>\n",
       "      <td>1</td>\n",
       "      <td>3</td>\n",
       "      <td>1-3</td>\n",
       "    </tr>\n",
       "    <tr>\n",
       "      <th>002А-Купе</th>\n",
       "      <td>1</td>\n",
       "      <td>3</td>\n",
       "      <td>1-3</td>\n",
       "    </tr>\n",
       "  </tbody>\n",
       "</table>\n",
       "</div>"
      ],
      "text/plain": [
       "           mu  eig both\n",
       "train                  \n",
       "001А-Купе   1    3  1-3\n",
       "002А-Купе   1    3  1-3"
      ]
     },
     "execution_count": 4,
     "metadata": {},
     "output_type": "execute_result"
    }
   ],
   "source": [
    "data = pd.read_csv('../data/train_clusters.csv', index_col='train')\n",
    "\n",
    "data.head(2)"
   ]
  },
  {
   "cell_type": "code",
   "execution_count": 5,
   "metadata": {},
   "outputs": [
    {
     "data": {
      "text/plain": [
       "1-3    20\n",
       "0-0    17\n",
       "2-1     7\n",
       "0-3     7\n",
       "1-2     6\n",
       "0-1     2\n",
       "2-0     2\n",
       "1-0     1\n",
       "Name: both, dtype: int64"
      ]
     },
     "execution_count": 5,
     "metadata": {},
     "output_type": "execute_result"
    }
   ],
   "source": [
    "data['both'].value_counts()"
   ]
  },
  {
   "cell_type": "code",
   "execution_count": 2,
   "metadata": {},
   "outputs": [
    {
     "data": {
      "text/html": [
       "<div>\n",
       "<style scoped>\n",
       "    .dataframe tbody tr th:only-of-type {\n",
       "        vertical-align: middle;\n",
       "    }\n",
       "\n",
       "    .dataframe tbody tr th {\n",
       "        vertical-align: top;\n",
       "    }\n",
       "\n",
       "    .dataframe thead th {\n",
       "        text-align: right;\n",
       "    }\n",
       "</style>\n",
       "<table border=\"1\" class=\"dataframe\">\n",
       "  <thead>\n",
       "    <tr style=\"text-align: right;\">\n",
       "      <th></th>\n",
       "      <th>date</th>\n",
       "      <th>days</th>\n",
       "      <th>places</th>\n",
       "      <th>price</th>\n",
       "      <th>num</th>\n",
       "      <th>class</th>\n",
       "      <th>weekday</th>\n",
       "      <th>day_name</th>\n",
       "      <th>weekend</th>\n",
       "      <th>train</th>\n",
       "    </tr>\n",
       "  </thead>\n",
       "  <tbody>\n",
       "    <tr>\n",
       "      <th>0</th>\n",
       "      <td>2021-04-03</td>\n",
       "      <td>1</td>\n",
       "      <td>0.442857</td>\n",
       "      <td>3275.0</td>\n",
       "      <td>001А</td>\n",
       "      <td>Купе</td>\n",
       "      <td>5</td>\n",
       "      <td>Saturday</td>\n",
       "      <td>0</td>\n",
       "      <td>001А-Купе</td>\n",
       "    </tr>\n",
       "    <tr>\n",
       "      <th>1</th>\n",
       "      <td>2021-04-04</td>\n",
       "      <td>1</td>\n",
       "      <td>0.235714</td>\n",
       "      <td>3913.0</td>\n",
       "      <td>001А</td>\n",
       "      <td>Купе</td>\n",
       "      <td>6</td>\n",
       "      <td>Sunday</td>\n",
       "      <td>0</td>\n",
       "      <td>001А-Купе</td>\n",
       "    </tr>\n",
       "  </tbody>\n",
       "</table>\n",
       "</div>"
      ],
      "text/plain": [
       "        date  days    places   price   num class  weekday  day_name  weekend  \\\n",
       "0 2021-04-03     1  0.442857  3275.0  001А  Купе        5  Saturday        0   \n",
       "1 2021-04-04     1  0.235714  3913.0  001А  Купе        6    Sunday        0   \n",
       "\n",
       "       train  \n",
       "0  001А-Купе  \n",
       "1  001А-Купе  "
      ]
     },
     "execution_count": 2,
     "metadata": {},
     "output_type": "execute_result"
    }
   ],
   "source": [
    "data = pd.read_csv('../data/data.csv', parse_dates=['date'])\n",
    "\n",
    "data['train'] = data['num'] + '-' + data['class']\n",
    "\n",
    "data.head(2)"
   ]
  },
  {
   "cell_type": "code",
   "execution_count": 3,
   "metadata": {},
   "outputs": [
    {
     "data": {
      "text/html": [
       "<div>\n",
       "<style scoped>\n",
       "    .dataframe tbody tr th:only-of-type {\n",
       "        vertical-align: middle;\n",
       "    }\n",
       "\n",
       "    .dataframe tbody tr th {\n",
       "        vertical-align: top;\n",
       "    }\n",
       "\n",
       "    .dataframe thead th {\n",
       "        text-align: right;\n",
       "    }\n",
       "</style>\n",
       "<table border=\"1\" class=\"dataframe\">\n",
       "  <thead>\n",
       "    <tr style=\"text-align: right;\">\n",
       "      <th>days</th>\n",
       "      <th>1</th>\n",
       "      <th>2</th>\n",
       "      <th>3</th>\n",
       "      <th>4</th>\n",
       "      <th>5</th>\n",
       "      <th>6</th>\n",
       "      <th>7</th>\n",
       "      <th>8</th>\n",
       "      <th>9</th>\n",
       "      <th>10</th>\n",
       "      <th>...</th>\n",
       "      <th>21</th>\n",
       "      <th>22</th>\n",
       "      <th>23</th>\n",
       "      <th>24</th>\n",
       "      <th>25</th>\n",
       "      <th>26</th>\n",
       "      <th>27</th>\n",
       "      <th>28</th>\n",
       "      <th>29</th>\n",
       "      <th>30</th>\n",
       "    </tr>\n",
       "    <tr>\n",
       "      <th>train</th>\n",
       "      <th></th>\n",
       "      <th></th>\n",
       "      <th></th>\n",
       "      <th></th>\n",
       "      <th></th>\n",
       "      <th></th>\n",
       "      <th></th>\n",
       "      <th></th>\n",
       "      <th></th>\n",
       "      <th></th>\n",
       "      <th></th>\n",
       "      <th></th>\n",
       "      <th></th>\n",
       "      <th></th>\n",
       "      <th></th>\n",
       "      <th></th>\n",
       "      <th></th>\n",
       "      <th></th>\n",
       "      <th></th>\n",
       "      <th></th>\n",
       "      <th></th>\n",
       "    </tr>\n",
       "  </thead>\n",
       "  <tbody>\n",
       "    <tr>\n",
       "      <th>001А-Купе</th>\n",
       "      <td>3042.617647</td>\n",
       "      <td>3081.150000</td>\n",
       "      <td>2993.452381</td>\n",
       "      <td>2971.619048</td>\n",
       "      <td>2884.000000</td>\n",
       "      <td>2852.075</td>\n",
       "      <td>2797.595238</td>\n",
       "      <td>2766.238095</td>\n",
       "      <td>2746.833333</td>\n",
       "      <td>2682.976744</td>\n",
       "      <td>...</td>\n",
       "      <td>2783.969697</td>\n",
       "      <td>2804.516129</td>\n",
       "      <td>2815.633333</td>\n",
       "      <td>2840.642857</td>\n",
       "      <td>2840.250000</td>\n",
       "      <td>2799.777778</td>\n",
       "      <td>2847.769231</td>\n",
       "      <td>2860.130435</td>\n",
       "      <td>2879.166667</td>\n",
       "      <td>2898.952381</td>\n",
       "    </tr>\n",
       "    <tr>\n",
       "      <th>001А-СВ</th>\n",
       "      <td>6163.615385</td>\n",
       "      <td>6205.333333</td>\n",
       "      <td>5865.261905</td>\n",
       "      <td>5943.880952</td>\n",
       "      <td>5801.926829</td>\n",
       "      <td>5888.100</td>\n",
       "      <td>5940.738095</td>\n",
       "      <td>6058.690476</td>\n",
       "      <td>6097.833333</td>\n",
       "      <td>6088.651163</td>\n",
       "      <td>...</td>\n",
       "      <td>6183.151515</td>\n",
       "      <td>6212.322581</td>\n",
       "      <td>6189.733333</td>\n",
       "      <td>6112.821429</td>\n",
       "      <td>6177.964286</td>\n",
       "      <td>6149.370370</td>\n",
       "      <td>6120.884615</td>\n",
       "      <td>6070.260870</td>\n",
       "      <td>6056.791667</td>\n",
       "      <td>6043.190476</td>\n",
       "    </tr>\n",
       "  </tbody>\n",
       "</table>\n",
       "<p>2 rows × 30 columns</p>\n",
       "</div>"
      ],
      "text/plain": [
       "days                1            2            3            4            5   \\\n",
       "train                                                                        \n",
       "001А-Купе  3042.617647  3081.150000  2993.452381  2971.619048  2884.000000   \n",
       "001А-СВ    6163.615385  6205.333333  5865.261905  5943.880952  5801.926829   \n",
       "\n",
       "days             6            7            8            9            10  ...  \\\n",
       "train                                                                    ...   \n",
       "001А-Купе  2852.075  2797.595238  2766.238095  2746.833333  2682.976744  ...   \n",
       "001А-СВ    5888.100  5940.738095  6058.690476  6097.833333  6088.651163  ...   \n",
       "\n",
       "days                21           22           23           24           25  \\\n",
       "train                                                                        \n",
       "001А-Купе  2783.969697  2804.516129  2815.633333  2840.642857  2840.250000   \n",
       "001А-СВ    6183.151515  6212.322581  6189.733333  6112.821429  6177.964286   \n",
       "\n",
       "days                26           27           28           29           30  \n",
       "train                                                                       \n",
       "001А-Купе  2799.777778  2847.769231  2860.130435  2879.166667  2898.952381  \n",
       "001А-СВ    6149.370370  6120.884615  6070.260870  6056.791667  6043.190476  \n",
       "\n",
       "[2 rows x 30 columns]"
      ]
     },
     "execution_count": 3,
     "metadata": {},
     "output_type": "execute_result"
    }
   ],
   "source": [
    "grouped = data.groupby(['train', 'days'])['price'].mean().reset_index()\\\n",
    "    .pivot(index='train', columns='days', values='price')\n",
    "\n",
    "grouped.head(2)"
   ]
  },
  {
   "cell_type": "code",
   "execution_count": 4,
   "metadata": {},
   "outputs": [
    {
     "data": {
      "text/plain": [
       "(144, 30)"
      ]
     },
     "execution_count": 4,
     "metadata": {},
     "output_type": "execute_result"
    }
   ],
   "source": [
    "grouped.shape"
   ]
  },
  {
   "cell_type": "code",
   "execution_count": 6,
   "metadata": {},
   "outputs": [],
   "source": [
    "trains = grouped.index.tolist()\n",
    "\n",
    "ncols = 6\n",
    "nrows = len(trains) // ncols + (len(trains) % ncols > 0)\n",
    "\n",
    "fig, axes = plt.subplots(ncols=ncols, nrows=nrows)\n",
    "fig.set_size_inches(3 * ncols, 3 * nrows)\n",
    "fig.subplots_adjust(wspace=0.5, hspace=0.6)\n",
    "axes = axes.flatten()\n",
    "\n",
    "for train, ax in zip(trains, axes):\n",
    "    row = grouped.loc[train]\n",
    "    ax.plot(row, c='C3', lw=2)\n",
    "    ax.fill_between(row.index, row.values, row.min(), color='C3', alpha=0.15)\n",
    "    \n",
    "    ax.set_title(train)\n",
    "    ax.set_xlabel('days to departure')\n",
    "    ax.set_ylabel('avg. ticket price')\n",
    "    ax.invert_xaxis()\n",
    "    \n",
    "for i in range(len(trains), len(axes)):\n",
    "    axes[i].axis('off')\n",
    "    \n",
    "plt.savefig('../data/figures/price_vs_days.pdf', transparent=True, bbox_inches='tight')\n",
    "plt.close()"
   ]
  },
  {
   "cell_type": "code",
   "execution_count": 10,
   "metadata": {},
   "outputs": [
    {
     "data": {
      "text/html": [
       "<div>\n",
       "<style scoped>\n",
       "    .dataframe tbody tr th:only-of-type {\n",
       "        vertical-align: middle;\n",
       "    }\n",
       "\n",
       "    .dataframe tbody tr th {\n",
       "        vertical-align: top;\n",
       "    }\n",
       "\n",
       "    .dataframe thead th {\n",
       "        text-align: right;\n",
       "    }\n",
       "</style>\n",
       "<table border=\"1\" class=\"dataframe\">\n",
       "  <thead>\n",
       "    <tr style=\"text-align: right;\">\n",
       "      <th>days</th>\n",
       "      <th>1</th>\n",
       "      <th>2</th>\n",
       "      <th>3</th>\n",
       "      <th>4</th>\n",
       "      <th>5</th>\n",
       "      <th>6</th>\n",
       "      <th>7</th>\n",
       "      <th>8</th>\n",
       "      <th>9</th>\n",
       "      <th>10</th>\n",
       "      <th>...</th>\n",
       "      <th>21</th>\n",
       "      <th>22</th>\n",
       "      <th>23</th>\n",
       "      <th>24</th>\n",
       "      <th>25</th>\n",
       "      <th>26</th>\n",
       "      <th>27</th>\n",
       "      <th>28</th>\n",
       "      <th>29</th>\n",
       "      <th>30</th>\n",
       "    </tr>\n",
       "    <tr>\n",
       "      <th>train</th>\n",
       "      <th></th>\n",
       "      <th></th>\n",
       "      <th></th>\n",
       "      <th></th>\n",
       "      <th></th>\n",
       "      <th></th>\n",
       "      <th></th>\n",
       "      <th></th>\n",
       "      <th></th>\n",
       "      <th></th>\n",
       "      <th></th>\n",
       "      <th></th>\n",
       "      <th></th>\n",
       "      <th></th>\n",
       "      <th></th>\n",
       "      <th></th>\n",
       "      <th></th>\n",
       "      <th></th>\n",
       "      <th></th>\n",
       "      <th></th>\n",
       "      <th></th>\n",
       "    </tr>\n",
       "  </thead>\n",
       "  <tbody>\n",
       "    <tr>\n",
       "      <th>001А-Купе</th>\n",
       "      <td>0.382784</td>\n",
       "      <td>0.436905</td>\n",
       "      <td>0.498810</td>\n",
       "      <td>0.549830</td>\n",
       "      <td>0.613415</td>\n",
       "      <td>0.636786</td>\n",
       "      <td>0.675510</td>\n",
       "      <td>0.707143</td>\n",
       "      <td>0.726701</td>\n",
       "      <td>0.751163</td>\n",
       "      <td>...</td>\n",
       "      <td>0.882900</td>\n",
       "      <td>0.885023</td>\n",
       "      <td>0.890238</td>\n",
       "      <td>0.902296</td>\n",
       "      <td>0.897194</td>\n",
       "      <td>0.897090</td>\n",
       "      <td>0.904121</td>\n",
       "      <td>0.897205</td>\n",
       "      <td>0.902381</td>\n",
       "      <td>0.907483</td>\n",
       "    </tr>\n",
       "    <tr>\n",
       "      <th>001А-СВ</th>\n",
       "      <td>0.605569</td>\n",
       "      <td>0.627604</td>\n",
       "      <td>0.686756</td>\n",
       "      <td>0.704241</td>\n",
       "      <td>0.734566</td>\n",
       "      <td>0.760352</td>\n",
       "      <td>0.764137</td>\n",
       "      <td>0.781436</td>\n",
       "      <td>0.794457</td>\n",
       "      <td>0.799964</td>\n",
       "      <td>...</td>\n",
       "      <td>0.778172</td>\n",
       "      <td>0.782258</td>\n",
       "      <td>0.795052</td>\n",
       "      <td>0.798549</td>\n",
       "      <td>0.796596</td>\n",
       "      <td>0.813079</td>\n",
       "      <td>0.808293</td>\n",
       "      <td>0.829144</td>\n",
       "      <td>0.838867</td>\n",
       "      <td>0.873512</td>\n",
       "    </tr>\n",
       "  </tbody>\n",
       "</table>\n",
       "<p>2 rows × 30 columns</p>\n",
       "</div>"
      ],
      "text/plain": [
       "days             1         2         3         4         5         6   \\\n",
       "train                                                                   \n",
       "001А-Купе  0.382784  0.436905  0.498810  0.549830  0.613415  0.636786   \n",
       "001А-СВ    0.605569  0.627604  0.686756  0.704241  0.734566  0.760352   \n",
       "\n",
       "days             7         8         9         10  ...        21        22  \\\n",
       "train                                              ...                       \n",
       "001А-Купе  0.675510  0.707143  0.726701  0.751163  ...  0.882900  0.885023   \n",
       "001А-СВ    0.764137  0.781436  0.794457  0.799964  ...  0.778172  0.782258   \n",
       "\n",
       "days             23        24        25        26        27        28  \\\n",
       "train                                                                   \n",
       "001А-Купе  0.890238  0.902296  0.897194  0.897090  0.904121  0.897205   \n",
       "001А-СВ    0.795052  0.798549  0.796596  0.813079  0.808293  0.829144   \n",
       "\n",
       "days             29        30  \n",
       "train                          \n",
       "001А-Купе  0.902381  0.907483  \n",
       "001А-СВ    0.838867  0.873512  \n",
       "\n",
       "[2 rows x 30 columns]"
      ]
     },
     "execution_count": 10,
     "metadata": {},
     "output_type": "execute_result"
    }
   ],
   "source": [
    "grouped = data.groupby(['train', 'days'])['places'].mean().reset_index()\\\n",
    "    .pivot(index='train', columns='days', values='places')\n",
    "\n",
    "grouped.head(2)"
   ]
  },
  {
   "cell_type": "code",
   "execution_count": 11,
   "metadata": {},
   "outputs": [
    {
     "data": {
      "text/plain": [
       "(144, 30)"
      ]
     },
     "execution_count": 11,
     "metadata": {},
     "output_type": "execute_result"
    }
   ],
   "source": [
    "grouped.shape"
   ]
  },
  {
   "cell_type": "code",
   "execution_count": 14,
   "metadata": {},
   "outputs": [],
   "source": [
    "trains = grouped.index.tolist()\n",
    "\n",
    "ncols = 6\n",
    "nrows = len(trains) // ncols + (len(trains) % ncols > 0)\n",
    "\n",
    "fig, axes = plt.subplots(ncols=ncols, nrows=nrows)\n",
    "fig.set_size_inches(3 * ncols, 3 * nrows)\n",
    "fig.subplots_adjust(wspace=0.5, hspace=0.6)\n",
    "axes = axes.flatten()\n",
    "\n",
    "for train, ax in zip(trains, axes):\n",
    "    row = grouped.loc[train]\n",
    "    ax.plot(row, c='C2', lw=2)\n",
    "    ax.fill_between(row.index, row.values, row.min(), color='C2', alpha=0.15)\n",
    "    \n",
    "    ax.set_title(train)\n",
    "    ax.set_xlabel('days to departure')\n",
    "    ax.set_ylabel('avg. vacant places')\n",
    "    ax.invert_xaxis()\n",
    "    \n",
    "for i in range(len(trains), len(axes)):\n",
    "    axes[i].axis('off')\n",
    "    \n",
    "plt.savefig('../data/figures/places_vs_days.pdf', transparent=True, bbox_inches='tight')\n",
    "plt.close()"
   ]
  },
  {
   "cell_type": "code",
   "execution_count": null,
   "metadata": {},
   "outputs": [],
   "source": []
  }
 ],
 "metadata": {
  "kernelspec": {
   "display_name": "Python 3",
   "language": "python",
   "name": "python3"
  },
  "language_info": {
   "codemirror_mode": {
    "name": "ipython",
    "version": 3
   },
   "file_extension": ".py",
   "mimetype": "text/x-python",
   "name": "python",
   "nbconvert_exporter": "python",
   "pygments_lexer": "ipython3",
   "version": "3.9.5"
  }
 },
 "nbformat": 4,
 "nbformat_minor": 4
}
